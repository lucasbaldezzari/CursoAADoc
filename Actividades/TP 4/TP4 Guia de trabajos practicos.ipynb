{
 "cells": [
  {
   "cell_type": "markdown",
   "id": "f5cf6a5e-93f6-4d8c-87b0-4c62198dab53",
   "metadata": {
    "slideshow": {
     "slide_type": "slide"
    }
   },
   "source": [
    "# Aprendizaje automático y aplicaciones\n",
    "\n",
    "## Guía de trabajos prácticos del Encuentro 4\n",
    "\n",
    "---\n",
    "$A^3$ @ FI-UNER : 2021"
   ]
  },
  {
   "cell_type": "markdown",
   "id": "6d899de5-159e-47e0-bbc8-862430bdd510",
   "metadata": {},
   "source": [
    "## Sobre el ejercicio\n",
    "\n",
    "**Debe entregarlo resuelto con un informe**. Puede agregar celdas en esta misma notebook para realizar el mismo. Agregue comentarios en el código entregado para facilitar la lectura y entendimiento.\n",
    "\n",
    "Recuerde que **la evaluación se hará en base a las guías resueltas de cada clase** y que cada una de ellas debe resolverse **de forma individual**.\n",
    "\n",
    "**Importante**:\n",
    "- Puede utilizar librerías adicionales para resolver tareas auxiliares, por ejemplo, para la lectura de archivos de datos o configuración. \n",
    "- Para resolver el desafío planteado en el ejercicio debe utilizar sólo las librerías utilizadas en clase."
   ]
  },
  {
   "cell_type": "markdown",
   "id": "b28acd28-074e-458b-a89f-4edad9bb1f43",
   "metadata": {},
   "source": [
    "## Ejercicio TP4\n",
    "\n",
    "\n",
    "1. Construya un modelo de regresión lineal utilizando un conjunto de variables diferente al visto en clase. El modelo propuesto debe hacer uso de la maquinaria de `scikit-learn` para preprocesar las entradas y las salidas, así como los hiperparámetros del regresor (en caso que corresponda). Para ello debe elegir al menos:\n",
    "   - una variable numérica y escalarla de forma adecuada\n",
    "   - una variable categórica ordinal y codificarla de forma adecuada\n",
    "   - una variable categórica nominal y codificarla de forma adecuada\n",
    "2. Realice validación cruzada con 5 folds para el modelo planteado y obtenga las métricas de desempeño para comparar su modelo con el \"preLRlog\" visto en clases. Se espera que el modelo propuesto supere a \"preLRlog\". En caso que no lo supere proponga otro modelo (cambiando variables de entrada y/o regresor).\n",
    "3. Realice predicciones sobre el conjunto de datos de test para su modelo y proponga el mismo en https://www.kaggle.com/c/house-prices-advanced-regression-techniques. ¿Que desempeño obtuvo?\n"
   ]
  }
 ],
 "metadata": {
  "kernelspec": {
   "display_name": "Python [conda env:aadoc]",
   "language": "python",
   "name": "conda-env-aadoc-py"
  },
  "language_info": {
   "codemirror_mode": {
    "name": "ipython",
    "version": 3
   },
   "file_extension": ".py",
   "mimetype": "text/x-python",
   "name": "python",
   "nbconvert_exporter": "python",
   "pygments_lexer": "ipython3",
   "version": "3.8.5"
  }
 },
 "nbformat": 4,
 "nbformat_minor": 5
}
