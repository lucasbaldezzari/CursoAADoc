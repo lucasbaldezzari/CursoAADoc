{
 "cells": [
  {
   "cell_type": "markdown",
   "id": "6ecc8d09",
   "metadata": {
    "id": "6ecc8d09"
   },
   "source": [
    "# Aprendizaje automático y aplicaciones\n",
    "\n",
    "---\n",
    "$A^3$ @ FI-UNER : 2021"
   ]
  },
  {
   "cell_type": "markdown",
   "id": "5GvVZyvksbk3",
   "metadata": {
    "id": "5GvVZyvksbk3"
   },
   "source": [
    "## Primer implementación: K-nn\n",
    "\n",
    "En esta primer implementación de un clasificador, crearemos una instancia del modelo k-vecinos más cercanos (k-nn) y lo entrenaremos para separar especies de plantas del género Iris usando sus características fenotípicas (longitud y ancho de sépalo y pétalo de sus flores).\n",
    "\n",
    "En primer lugar, cargamos los datos. En este caso están provistos por scikit-learn (consultar documentación en https://scikit-learn.org/stable/)"
   ]
  },
  {
   "cell_type": "code",
   "execution_count": null,
   "id": "SR9XBRTG0fne",
   "metadata": {
    "id": "SR9XBRTG0fne"
   },
   "outputs": [],
   "source": [
    "# Imports generales\n",
    "from matplotlib import pyplot as plt \n",
    "import numpy as np "
   ]
  },
  {
   "cell_type": "code",
   "execution_count": null,
   "id": "38578d03",
   "metadata": {
    "colab": {
     "base_uri": "https://localhost:8080/"
    },
    "executionInfo": {
     "elapsed": 762,
     "status": "ok",
     "timestamp": 1628001839744,
     "user": {
      "displayName": "Leandro Bugnon",
      "photoUrl": "https://lh3.googleusercontent.com/a-/AOh14GgzVvcUV49jcdycZ0hiYEpk15dSatLCOzmAxByhTR8=s64",
      "userId": "04594583387142575984"
     },
     "user_tz": 180
    },
    "id": "38578d03",
    "outputId": "66c9e24b-36c9-44b7-ee41-064c5c145353"
   },
   "outputs": [
    {
     "name": "stdout",
     "output_type": "stream",
     "text": [
      "['setosa' 'versicolor' 'virginica']\n",
      "['sepal length (cm)', 'sepal width (cm)', 'petal length (cm)', 'petal width (cm)']\n"
     ]
    }
   ],
   "source": [
    "from sklearn.datasets import load_iris\n",
    "\n",
    "data = load_iris()\n",
    "data.keys()\n",
    "print(data[\"target_names\"])\n",
    "print(data[\"feature_names\"])"
   ]
  },
  {
   "cell_type": "code",
   "execution_count": null,
   "id": "v3g1NpOhvDK0",
   "metadata": {
    "id": "v3g1NpOhvDK0"
   },
   "outputs": [],
   "source": [
    "# También podemos pedir directamente las matrices de datos y etiquetas\n",
    "X, y = load_iris(return_X_y=True)"
   ]
  },
  {
   "cell_type": "markdown",
   "id": "cdcd4b36",
   "metadata": {
    "id": "cdcd4b36"
   },
   "source": [
    "Ahora \"X\" es nuestro dataset de características y \"y\" sus etiquetas de referencia. Particionamos los datos en entrenamiento y prueba"
   ]
  },
  {
   "cell_type": "code",
   "execution_count": null,
   "id": "dc538b75",
   "metadata": {
    "colab": {
     "base_uri": "https://localhost:8080/"
    },
    "executionInfo": {
     "elapsed": 3,
     "status": "ok",
     "timestamp": 1628001840076,
     "user": {
      "displayName": "Leandro Bugnon",
      "photoUrl": "https://lh3.googleusercontent.com/a-/AOh14GgzVvcUV49jcdycZ0hiYEpk15dSatLCOzmAxByhTR8=s64",
      "userId": "04594583387142575984"
     },
     "user_tz": 180
    },
    "id": "dc538b75",
    "outputId": "4e485082-216f-42e6-ff5c-b41fb420694c"
   },
   "outputs": [
    {
     "name": "stdout",
     "output_type": "stream",
     "text": [
      "(120, 4) (120,)\n",
      "(30, 4) (30,)\n"
     ]
    }
   ],
   "source": [
    "from sklearn.model_selection import train_test_split\n",
    "\n",
    "# 20% test, 80% train\n",
    "Xtrain, Xtest, ytrain, ytest = train_test_split(X, y, test_size=0.2) \n",
    "\n",
    "print(Xtrain.shape, ytrain.shape)\n",
    "print(Xtest.shape, ytest.shape)"
   ]
  },
  {
   "cell_type": "markdown",
   "id": "9f982358",
   "metadata": {
    "id": "9f982358"
   },
   "source": [
    "# Definición del modelo\n",
    "Sklearn tiene implementado una gran variedad de métodos de ML \n",
    "\n",
    "https://scikit-learn.org/stable/modules/generated/sklearn.neighbors.KNeighborsClassifier.html"
   ]
  },
  {
   "cell_type": "code",
   "execution_count": null,
   "id": "43a3c742",
   "metadata": {
    "colab": {
     "base_uri": "https://localhost:8080/"
    },
    "executionInfo": {
     "elapsed": 387,
     "status": "ok",
     "timestamp": 1628001841042,
     "user": {
      "displayName": "Leandro Bugnon",
      "photoUrl": "https://lh3.googleusercontent.com/a-/AOh14GgzVvcUV49jcdycZ0hiYEpk15dSatLCOzmAxByhTR8=s64",
      "userId": "04594583387142575984"
     },
     "user_tz": 180
    },
    "id": "43a3c742",
    "outputId": "0b4ddc94-eec2-4437-ee7f-fd2e09f3344d"
   },
   "outputs": [
    {
     "name": "stdout",
     "output_type": "stream",
     "text": [
      "Hiperparámetros del modelo:\n",
      "\n",
      "{'algorithm': 'auto', 'leaf_size': 30, 'metric': 'minkowski', 'metric_params': None, 'n_jobs': None, 'n_neighbors': 5, 'p': 2, 'weights': 'uniform'}\n"
     ]
    }
   ],
   "source": [
    "from sklearn.neighbors import KNeighborsClassifier\n",
    "\n",
    "modelo = KNeighborsClassifier(n_neighbors=5) # K-nn con 5 vecinos (valor por defecto)\n",
    "print(\"Hiperparámetros del modelo:\\n\")\n",
    "print(modelo.get_params())   "
   ]
  },
  {
   "cell_type": "markdown",
   "id": "WcurJw4u0KKC",
   "metadata": {
    "id": "WcurJw4u0KKC"
   },
   "source": [
    "### Entrenamiento\n"
   ]
  },
  {
   "cell_type": "code",
   "execution_count": null,
   "id": "2685e9a9",
   "metadata": {
    "colab": {
     "base_uri": "https://localhost:8080/"
    },
    "executionInfo": {
     "elapsed": 3,
     "status": "ok",
     "timestamp": 1628001841465,
     "user": {
      "displayName": "Leandro Bugnon",
      "photoUrl": "https://lh3.googleusercontent.com/a-/AOh14GgzVvcUV49jcdycZ0hiYEpk15dSatLCOzmAxByhTR8=s64",
      "userId": "04594583387142575984"
     },
     "user_tz": 180
    },
    "id": "2685e9a9",
    "outputId": "251825cb-dc8d-4c5d-d139-a00de7e00f01"
   },
   "outputs": [
    {
     "data": {
      "text/plain": [
       "KNeighborsClassifier(algorithm='auto', leaf_size=30, metric='minkowski',\n",
       "                     metric_params=None, n_jobs=None, n_neighbors=5, p=2,\n",
       "                     weights='uniform')"
      ]
     },
     "execution_count": 6,
     "metadata": {
      "tags": []
     },
     "output_type": "execute_result"
    }
   ],
   "source": [
    "modelo.fit(Xtrain, ytrain)\n"
   ]
  },
  {
   "cell_type": "markdown",
   "id": "BFmuidWf0IFu",
   "metadata": {
    "id": "BFmuidWf0IFu"
   },
   "source": [
    "Podemos usar este modelo para \"predecir\" los datos de entrenamiento "
   ]
  },
  {
   "cell_type": "code",
   "execution_count": null,
   "id": "XdY336430HgI",
   "metadata": {
    "id": "XdY336430HgI"
   },
   "outputs": [],
   "source": [
    "yhat_train = modelo.predict(Xtrain)"
   ]
  },
  {
   "cell_type": "code",
   "execution_count": null,
   "id": "f0027f5e",
   "metadata": {
    "colab": {
     "base_uri": "https://localhost:8080/",
     "height": 483
    },
    "executionInfo": {
     "elapsed": 433,
     "status": "ok",
     "timestamp": 1628001843136,
     "user": {
      "displayName": "Leandro Bugnon",
      "photoUrl": "https://lh3.googleusercontent.com/a-/AOh14GgzVvcUV49jcdycZ0hiYEpk15dSatLCOzmAxByhTR8=s64",
      "userId": "04594583387142575984"
     },
     "user_tz": 180
    },
    "id": "f0027f5e",
    "outputId": "9d5272c0-3426-402b-ac66-cc50a9453535"
   },
   "outputs": [
    {
     "data": {
      "image/png": "[encoded data removed]",
      "text/plain": [
       "<Figure size 864x576 with 1 Axes>"
      ]
     },
     "metadata": {
      "needs_background": "light",
      "tags": []
     },
     "output_type": "display_data"
    }
   ],
   "source": [
    "# Ordeno los ejemplos para que las clases estén agrupadas\n",
    "ind = np.argsort(ytrain)\n",
    "\n",
    "plt.figure(figsize=(12,8))\n",
    "plt.plot(ytrain[ind], \"o\", label=\"Referencia\")\n",
    "plt.plot(yhat_train[ind], \"*\", label=\"Predicción\")\n",
    "plt.legend();"
   ]
  },
  {
   "cell_type": "markdown",
   "id": "d10f1f6b",
   "metadata": {
    "id": "d10f1f6b"
   },
   "source": [
    "## Validación \n",
    "Con un modelo lo suficientemente complejo es posible ajustar **cualquier** conjunto de datos. La verdadera pregunta es ¿que tanto generaliza? Es decir, cual es el error de predicción en una partición de datos nunca vista"
   ]
  },
  {
   "cell_type": "code",
   "execution_count": null,
   "id": "19dff8c9",
   "metadata": {
    "colab": {
     "base_uri": "https://localhost:8080/",
     "height": 513
    },
    "executionInfo": {
     "elapsed": 772,
     "status": "ok",
     "timestamp": 1628001846108,
     "user": {
      "displayName": "Leandro Bugnon",
      "photoUrl": "https://lh3.googleusercontent.com/a-/AOh14GgzVvcUV49jcdycZ0hiYEpk15dSatLCOzmAxByhTR8=s64",
      "userId": "04594583387142575984"
     },
     "user_tz": 180
    },
    "id": "19dff8c9",
    "outputId": "ccea9a1d-9d17-44f1-b024-78d1c9a7248f"
   },
   "outputs": [
    {
     "data": {
      "image/png": "[encoded data removed]",
      "text/plain": [
       "<Figure size 864x576 with 1 Axes>"
      ]
     },
     "metadata": {
      "needs_background": "light",
      "tags": []
     },
     "output_type": "display_data"
    }
   ],
   "source": [
    "yhat = modelo.predict(Xtest)\n",
    "\n",
    "ind = np.argsort(ytest)\n",
    "\n",
    "plt.figure(figsize=(12,8))\n",
    "plt.plot(ytest[ind], \"o\", label=\"Referencia\")\n",
    "plt.plot(yhat[ind], \"*\", label=\"Predicción\")\n",
    "plt.title(\"Predicciones en partición de test\")\n",
    "plt.xlabel(\"Caso del dataset de test\")\n",
    "plt.ylabel(\"Predicción\")\n",
    "plt.legend();"
   ]
  },
  {
   "cell_type": "markdown",
   "id": "FPoHPXjcu-iK",
   "metadata": {
    "id": "FPoHPXjcu-iK"
   },
   "source": [
    "## Verificación de los resultados en el dataset\n",
    "En este caso, dado que el problema es bastante simple, obtenemos resultados similares en test y train. "
   ]
  },
  {
   "cell_type": "code",
   "execution_count": null,
   "id": "1749e3f2",
   "metadata": {
    "colab": {
     "base_uri": "https://localhost:8080/",
     "height": 336
    },
    "executionInfo": {
     "elapsed": 2114,
     "status": "ok",
     "timestamp": 1628001850387,
     "user": {
      "displayName": "Leandro Bugnon",
      "photoUrl": "https://lh3.googleusercontent.com/a-/AOh14GgzVvcUV49jcdycZ0hiYEpk15dSatLCOzmAxByhTR8=s64",
      "userId": "04594583387142575984"
     },
     "user_tz": 180
    },
    "id": "1749e3f2",
    "outputId": "2b948875-07b7-47a7-9c7e-285ecf0ccd83"
   },
   "outputs": [
    {
     "data": {
      "image/png": "[encoded data removed]",
      "text/plain": [
       "<Figure size 576x360 with 1 Axes>"
      ]
     },
     "metadata": {
      "needs_background": "light",
      "tags": []
     },
     "output_type": "display_data"
    }
   ],
   "source": [
    "plt.figure(figsize=(8, 5))\n",
    "for l in [0, 1, 2]:\n",
    "    ind = yhat_train==l\n",
    "    plt.plot(Xtrain[ind, 0], Xtrain[ind, 1], \"o\", markerfacecolor=\"w\", \n",
    "             color=f\"C{l}\", label=f\"train_clase{l}\")\n",
    "\n",
    "for l in [0, 1, 2]:\n",
    "    ind = yhat==l\n",
    "    plt.plot(Xtest[ind, 0], Xtest[ind, 1], \"*\", color=f\"C{l}\", label=f\"test_clase{l}\")\n",
    "\n",
    "plt.xlabel(\"Característica 0 (longitud de sépalo)\")\n",
    "plt.ylabel(\"Característica 1 (ancho de sépalo)\") \n",
    "plt.legend();"
   ]
  },
  {
   "cell_type": "markdown",
   "id": "3FlHgxlT2ZaE",
   "metadata": {
    "id": "3FlHgxlT2ZaE"
   },
   "source": [
    "## Métricas\n",
    "Para medir objetivamente el rendimiento de nuestros modelos, usamos diferentes medidas de desempeño. La mayoría ya se encuentran implementadas en sklearn"
   ]
  },
  {
   "cell_type": "code",
   "execution_count": null,
   "id": "n6d9vv4szaih",
   "metadata": {
    "colab": {
     "base_uri": "https://localhost:8080/"
    },
    "executionInfo": {
     "elapsed": 266,
     "status": "ok",
     "timestamp": 1628001853096,
     "user": {
      "displayName": "Leandro Bugnon",
      "photoUrl": "https://lh3.googleusercontent.com/a-/AOh14GgzVvcUV49jcdycZ0hiYEpk15dSatLCOzmAxByhTR8=s64",
      "userId": "04594583387142575984"
     },
     "user_tz": 180
    },
    "id": "n6d9vv4szaih",
    "outputId": "40457b1c-3846-4d4e-a846-ccb43c73f7d1"
   },
   "outputs": [
    {
     "name": "stdout",
     "output_type": "stream",
     "text": [
      "Accuracy: 0.9666666666666667\n",
      "F1: 0.9701104613385315\n"
     ]
    }
   ],
   "source": [
    "from sklearn.metrics import accuracy_score, f1_score\n",
    "\n",
    "print(\"Accuracy:\", accuracy_score(ytest, yhat))\n",
    "\n",
    "# Ver detalle de opciones en https://scikit-learn.org/stable/modules/generated/sklearn.metrics.f1_score.html\n",
    "print(\"F1:\", f1_score(ytest, yhat, average=\"macro\"))\n"
   ]
  },
  {
   "cell_type": "markdown",
   "id": "avXDfyyI2-6n",
   "metadata": {
    "id": "avXDfyyI2-6n"
   },
   "source": [
    "La mayoría de los métodos tienen además de \"predict\" una función que devuelve un puntaje para cada predicción. Esto sirve, en algunos casos, para proponer candidatos de una u otra clase, con la esperanza de que los ejemplos que tienen mayor puntaje son más confiables.\n",
    "En este caso, el score muestra la proporción de vecinos usada para tomar la decisión "
   ]
  },
  {
   "cell_type": "code",
   "execution_count": null,
   "id": "OeRJx-ABHXzm",
   "metadata": {
    "colab": {
     "base_uri": "https://localhost:8080/"
    },
    "executionInfo": {
     "elapsed": 4,
     "status": "ok",
     "timestamp": 1628001855731,
     "user": {
      "displayName": "Leandro Bugnon",
      "photoUrl": "https://lh3.googleusercontent.com/a-/AOh14GgzVvcUV49jcdycZ0hiYEpk15dSatLCOzmAxByhTR8=s64",
      "userId": "04594583387142575984"
     },
     "user_tz": 180
    },
    "id": "OeRJx-ABHXzm",
    "outputId": "5d38fa4e-297f-4cba-8ef4-f62886f59566"
   },
   "outputs": [
    {
     "name": "stdout",
     "output_type": "stream",
     "text": [
      "label 2: score [0. 0. 1.]\n",
      "label 2: score [0.  0.4 0.6]\n",
      "label 2: score [0.  0.2 0.8]\n",
      "label 0: score [1. 0. 0.]\n",
      "label 2: score [0. 0. 1.]\n",
      "label 2: score [0. 0. 1.]\n",
      "label 2: score [0. 0. 1.]\n",
      "label 2: score [0. 0. 1.]\n",
      "label 2: score [0.  0.2 0.8]\n",
      "label 0: score [1. 0. 0.]\n",
      "label 0: score [1. 0. 0.]\n",
      "label 0: score [1. 0. 0.]\n",
      "label 0: score [1. 0. 0.]\n",
      "label 1: score [0. 1. 0.]\n",
      "label 1: score [0. 0. 1.]\n",
      "label 2: score [0. 0. 1.]\n",
      "label 2: score [0. 0. 1.]\n",
      "label 1: score [0.  0.8 0.2]\n",
      "label 0: score [1. 0. 0.]\n",
      "label 1: score [0. 1. 0.]\n",
      "label 2: score [0. 0. 1.]\n",
      "label 2: score [0.  0.2 0.8]\n",
      "label 1: score [0. 1. 0.]\n",
      "label 1: score [0. 1. 0.]\n",
      "label 0: score [1. 0. 0.]\n",
      "label 1: score [0. 1. 0.]\n",
      "label 2: score [0. 0. 1.]\n",
      "label 1: score [0. 1. 0.]\n",
      "label 1: score [0. 1. 0.]\n",
      "label 1: score [0. 1. 0.]\n"
     ]
    }
   ],
   "source": [
    "scores = modelo.predict_proba(Xtest) # a veces es \"decision_function\"\n",
    "for s, l in zip(scores, ytest):\n",
    "    print(f\"label {l}: score {s}\")"
   ]
  }
 ],
 "metadata": {
  "colab": {
   "collapsed_sections": [],
   "name": "S1 k-nn.ipynb",
   "provenance": [
    {
     "file_id": "16Sm4yWSowhqVRUbKEb4TWP515w4n5fMc",
     "timestamp": 1626394109324
    }
   ]
  },
  "kernelspec": {
   "display_name": "Python 3",
   "language": "python",
   "name": "python3"
  },
  "language_info": {
   "codemirror_mode": {
    "name": "ipython",
    "version": 3
   },
   "file_extension": ".py",
   "mimetype": "text/x-python",
   "name": "python",
   "nbconvert_exporter": "python",
   "pygments_lexer": "ipython3",
   "version": "3.7.10"
  }
 },
 "nbformat": 4,
 "nbformat_minor": 5
}
