{
 "cells": [
  {
   "cell_type": "markdown",
   "id": "9de37edd",
   "metadata": {},
   "source": [
    "# TP 3\n",
    "\n",
    "Autor: Baldezzari Lucas\n",
    "\n",
    "Nota: Parte del código implementado fue otorgado por los docentes del curso."
   ]
  },
  {
   "cell_type": "markdown",
   "id": "984a44b1",
   "metadata": {},
   "source": [
    "#### Se importan packages"
   ]
  },
  {
   "cell_type": "code",
   "execution_count": 1,
   "id": "e4bb6080",
   "metadata": {
    "id": "6RheZEhn0huB"
   },
   "outputs": [],
   "source": [
    "import numpy as np\n",
    "import matplotlib.pyplot as plt\n",
    "import pandas as pd\n",
    "\n",
    "from copy import deepcopy\n",
    "\n",
    "from sklearn.model_selection import train_test_split\n",
    "from sklearn.metrics import precision_recall_fscore_support, accuracy_score"
   ]
  },
  {
   "cell_type": "markdown",
   "id": "62709c41",
   "metadata": {},
   "source": [
    "#### Carga de datos"
   ]
  },
  {
   "cell_type": "code",
   "execution_count": 6,
   "id": "ab06d3cc",
   "metadata": {},
   "outputs": [
    {
     "data": {
      "text/html": [
       "<div>\n",
       "<style scoped>\n",
       "    .dataframe tbody tr th:only-of-type {\n",
       "        vertical-align: middle;\n",
       "    }\n",
       "\n",
       "    .dataframe tbody tr th {\n",
       "        vertical-align: top;\n",
       "    }\n",
       "\n",
       "    .dataframe thead th {\n",
       "        text-align: right;\n",
       "    }\n",
       "</style>\n",
       "<table border=\"1\" class=\"dataframe\">\n",
       "  <thead>\n",
       "    <tr style=\"text-align: right;\">\n",
       "      <th></th>\n",
       "      <th>Unnamed: 0</th>\n",
       "      <th>Erythema</th>\n",
       "      <th>Scaling</th>\n",
       "      <th>Definite_borders</th>\n",
       "      <th>Itching</th>\n",
       "      <th>Koebner_phenomenon</th>\n",
       "      <th>Polygonal_papules</th>\n",
       "      <th>Follicular_papules</th>\n",
       "      <th>Oral_mucosal</th>\n",
       "      <th>Knee_and_elbow</th>\n",
       "      <th>...</th>\n",
       "      <th>Granular_layer</th>\n",
       "      <th>Vacuolisation</th>\n",
       "      <th>Spongiosis</th>\n",
       "      <th>Saw-tooth_appearance</th>\n",
       "      <th>Follicular_horn_plug</th>\n",
       "      <th>Perifollicular_parakeratosis</th>\n",
       "      <th>Inflammatory_monoluclear</th>\n",
       "      <th>Band-like_infiltrate</th>\n",
       "      <th>Age</th>\n",
       "      <th>Class</th>\n",
       "    </tr>\n",
       "  </thead>\n",
       "  <tbody>\n",
       "    <tr>\n",
       "      <th>0</th>\n",
       "      <td>0</td>\n",
       "      <td>NaN</td>\n",
       "      <td>2.000000</td>\n",
       "      <td>1.000000</td>\n",
       "      <td>0.000000</td>\n",
       "      <td>1.0</td>\n",
       "      <td>0.0</td>\n",
       "      <td>0.000000</td>\n",
       "      <td>0.0</td>\n",
       "      <td>0.0</td>\n",
       "      <td>...</td>\n",
       "      <td>0.0</td>\n",
       "      <td>0.0</td>\n",
       "      <td>3.000000</td>\n",
       "      <td>0.0</td>\n",
       "      <td>0.0</td>\n",
       "      <td>0.0</td>\n",
       "      <td>2.000000</td>\n",
       "      <td>0.0</td>\n",
       "      <td>35.000000</td>\n",
       "      <td>4.0</td>\n",
       "    </tr>\n",
       "    <tr>\n",
       "      <th>1</th>\n",
       "      <td>1</td>\n",
       "      <td>2.000000</td>\n",
       "      <td>2.000000</td>\n",
       "      <td>2.000000</td>\n",
       "      <td>0.000000</td>\n",
       "      <td>0.0</td>\n",
       "      <td>0.0</td>\n",
       "      <td>0.000000</td>\n",
       "      <td>0.0</td>\n",
       "      <td>0.0</td>\n",
       "      <td>...</td>\n",
       "      <td>1.0</td>\n",
       "      <td>0.0</td>\n",
       "      <td>2.000000</td>\n",
       "      <td>0.0</td>\n",
       "      <td>0.0</td>\n",
       "      <td>0.0</td>\n",
       "      <td>3.000000</td>\n",
       "      <td>0.0</td>\n",
       "      <td>48.000000</td>\n",
       "      <td>4.0</td>\n",
       "    </tr>\n",
       "    <tr>\n",
       "      <th>2</th>\n",
       "      <td>2</td>\n",
       "      <td>1.000000</td>\n",
       "      <td>1.000000</td>\n",
       "      <td>0.000000</td>\n",
       "      <td>1.000000</td>\n",
       "      <td>0.0</td>\n",
       "      <td>0.0</td>\n",
       "      <td>2.000000</td>\n",
       "      <td>0.0</td>\n",
       "      <td>0.0</td>\n",
       "      <td>...</td>\n",
       "      <td>0.0</td>\n",
       "      <td>0.0</td>\n",
       "      <td>0.000000</td>\n",
       "      <td>0.0</td>\n",
       "      <td>0.0</td>\n",
       "      <td>0.0</td>\n",
       "      <td>1.000000</td>\n",
       "      <td>0.0</td>\n",
       "      <td>35.000000</td>\n",
       "      <td>5.0</td>\n",
       "    </tr>\n",
       "    <tr>\n",
       "      <th>3</th>\n",
       "      <td>3</td>\n",
       "      <td>NaN</td>\n",
       "      <td>3.000000</td>\n",
       "      <td>0.000000</td>\n",
       "      <td>3.000000</td>\n",
       "      <td>0.0</td>\n",
       "      <td>0.0</td>\n",
       "      <td>0.000000</td>\n",
       "      <td>0.0</td>\n",
       "      <td>0.0</td>\n",
       "      <td>...</td>\n",
       "      <td>0.0</td>\n",
       "      <td>0.0</td>\n",
       "      <td>3.000000</td>\n",
       "      <td>0.0</td>\n",
       "      <td>0.0</td>\n",
       "      <td>0.0</td>\n",
       "      <td>2.000000</td>\n",
       "      <td>0.0</td>\n",
       "      <td>33.000000</td>\n",
       "      <td>2.0</td>\n",
       "    </tr>\n",
       "    <tr>\n",
       "      <th>4</th>\n",
       "      <td>4</td>\n",
       "      <td>3.000000</td>\n",
       "      <td>2.000000</td>\n",
       "      <td>0.000000</td>\n",
       "      <td>2.000000</td>\n",
       "      <td>0.0</td>\n",
       "      <td>0.0</td>\n",
       "      <td>0.000000</td>\n",
       "      <td>0.0</td>\n",
       "      <td>0.0</td>\n",
       "      <td>...</td>\n",
       "      <td>0.0</td>\n",
       "      <td>0.0</td>\n",
       "      <td>2.000000</td>\n",
       "      <td>0.0</td>\n",
       "      <td>0.0</td>\n",
       "      <td>0.0</td>\n",
       "      <td>0.000000</td>\n",
       "      <td>0.0</td>\n",
       "      <td>20.000000</td>\n",
       "      <td>2.0</td>\n",
       "    </tr>\n",
       "    <tr>\n",
       "      <th>...</th>\n",
       "      <td>...</td>\n",
       "      <td>...</td>\n",
       "      <td>...</td>\n",
       "      <td>...</td>\n",
       "      <td>...</td>\n",
       "      <td>...</td>\n",
       "      <td>...</td>\n",
       "      <td>...</td>\n",
       "      <td>...</td>\n",
       "      <td>...</td>\n",
       "      <td>...</td>\n",
       "      <td>...</td>\n",
       "      <td>...</td>\n",
       "      <td>...</td>\n",
       "      <td>...</td>\n",
       "      <td>...</td>\n",
       "      <td>...</td>\n",
       "      <td>...</td>\n",
       "      <td>...</td>\n",
       "      <td>...</td>\n",
       "      <td>...</td>\n",
       "    </tr>\n",
       "    <tr>\n",
       "      <th>380</th>\n",
       "      <td>380</td>\n",
       "      <td>1.715223</td>\n",
       "      <td>1.000000</td>\n",
       "      <td>2.000000</td>\n",
       "      <td>0.854332</td>\n",
       "      <td>0.0</td>\n",
       "      <td>0.0</td>\n",
       "      <td>0.000000</td>\n",
       "      <td>0.0</td>\n",
       "      <td>0.0</td>\n",
       "      <td>...</td>\n",
       "      <td>0.0</td>\n",
       "      <td>0.0</td>\n",
       "      <td>0.000000</td>\n",
       "      <td>0.0</td>\n",
       "      <td>0.0</td>\n",
       "      <td>0.0</td>\n",
       "      <td>1.000000</td>\n",
       "      <td>0.0</td>\n",
       "      <td>51.423886</td>\n",
       "      <td>5.0</td>\n",
       "    </tr>\n",
       "    <tr>\n",
       "      <th>381</th>\n",
       "      <td>381</td>\n",
       "      <td>1.431590</td>\n",
       "      <td>0.863180</td>\n",
       "      <td>1.000000</td>\n",
       "      <td>2.000000</td>\n",
       "      <td>0.0</td>\n",
       "      <td>0.0</td>\n",
       "      <td>0.000000</td>\n",
       "      <td>0.0</td>\n",
       "      <td>0.0</td>\n",
       "      <td>...</td>\n",
       "      <td>0.0</td>\n",
       "      <td>0.0</td>\n",
       "      <td>0.000000</td>\n",
       "      <td>0.0</td>\n",
       "      <td>0.0</td>\n",
       "      <td>0.0</td>\n",
       "      <td>1.000000</td>\n",
       "      <td>0.0</td>\n",
       "      <td>27.568410</td>\n",
       "      <td>5.0</td>\n",
       "    </tr>\n",
       "    <tr>\n",
       "      <th>382</th>\n",
       "      <td>382</td>\n",
       "      <td>2.000000</td>\n",
       "      <td>0.971914</td>\n",
       "      <td>0.028086</td>\n",
       "      <td>3.000000</td>\n",
       "      <td>0.0</td>\n",
       "      <td>0.0</td>\n",
       "      <td>0.000000</td>\n",
       "      <td>0.0</td>\n",
       "      <td>0.0</td>\n",
       "      <td>...</td>\n",
       "      <td>0.0</td>\n",
       "      <td>0.0</td>\n",
       "      <td>0.000000</td>\n",
       "      <td>0.0</td>\n",
       "      <td>0.0</td>\n",
       "      <td>0.0</td>\n",
       "      <td>1.056172</td>\n",
       "      <td>0.0</td>\n",
       "      <td>69.803398</td>\n",
       "      <td>5.0</td>\n",
       "    </tr>\n",
       "    <tr>\n",
       "      <th>383</th>\n",
       "      <td>383</td>\n",
       "      <td>1.929677</td>\n",
       "      <td>1.929677</td>\n",
       "      <td>1.000000</td>\n",
       "      <td>0.210970</td>\n",
       "      <td>0.0</td>\n",
       "      <td>0.0</td>\n",
       "      <td>0.070323</td>\n",
       "      <td>0.0</td>\n",
       "      <td>0.0</td>\n",
       "      <td>...</td>\n",
       "      <td>0.0</td>\n",
       "      <td>0.0</td>\n",
       "      <td>0.070323</td>\n",
       "      <td>0.0</td>\n",
       "      <td>0.0</td>\n",
       "      <td>0.0</td>\n",
       "      <td>2.929677</td>\n",
       "      <td>0.0</td>\n",
       "      <td>29.070323</td>\n",
       "      <td>5.0</td>\n",
       "    </tr>\n",
       "    <tr>\n",
       "      <th>384</th>\n",
       "      <td>384</td>\n",
       "      <td>1.000000</td>\n",
       "      <td>1.324190</td>\n",
       "      <td>0.324190</td>\n",
       "      <td>1.000000</td>\n",
       "      <td>0.0</td>\n",
       "      <td>0.0</td>\n",
       "      <td>0.000000</td>\n",
       "      <td>0.0</td>\n",
       "      <td>0.0</td>\n",
       "      <td>...</td>\n",
       "      <td>0.0</td>\n",
       "      <td>0.0</td>\n",
       "      <td>0.000000</td>\n",
       "      <td>0.0</td>\n",
       "      <td>0.0</td>\n",
       "      <td>0.0</td>\n",
       "      <td>1.324190</td>\n",
       "      <td>0.0</td>\n",
       "      <td>33.648380</td>\n",
       "      <td>5.0</td>\n",
       "    </tr>\n",
       "  </tbody>\n",
       "</table>\n",
       "<p>385 rows × 36 columns</p>\n",
       "</div>"
      ],
      "text/plain": [
       "     Unnamed: 0  Erythema   Scaling  Definite_borders   Itching  \\\n",
       "0             0       NaN  2.000000          1.000000  0.000000   \n",
       "1             1  2.000000  2.000000          2.000000  0.000000   \n",
       "2             2  1.000000  1.000000          0.000000  1.000000   \n",
       "3             3       NaN  3.000000          0.000000  3.000000   \n",
       "4             4  3.000000  2.000000          0.000000  2.000000   \n",
       "..          ...       ...       ...               ...       ...   \n",
       "380         380  1.715223  1.000000          2.000000  0.854332   \n",
       "381         381  1.431590  0.863180          1.000000  2.000000   \n",
       "382         382  2.000000  0.971914          0.028086  3.000000   \n",
       "383         383  1.929677  1.929677          1.000000  0.210970   \n",
       "384         384  1.000000  1.324190          0.324190  1.000000   \n",
       "\n",
       "     Koebner_phenomenon  Polygonal_papules  Follicular_papules  Oral_mucosal  \\\n",
       "0                   1.0                0.0            0.000000           0.0   \n",
       "1                   0.0                0.0            0.000000           0.0   \n",
       "2                   0.0                0.0            2.000000           0.0   \n",
       "3                   0.0                0.0            0.000000           0.0   \n",
       "4                   0.0                0.0            0.000000           0.0   \n",
       "..                  ...                ...                 ...           ...   \n",
       "380                 0.0                0.0            0.000000           0.0   \n",
       "381                 0.0                0.0            0.000000           0.0   \n",
       "382                 0.0                0.0            0.000000           0.0   \n",
       "383                 0.0                0.0            0.070323           0.0   \n",
       "384                 0.0                0.0            0.000000           0.0   \n",
       "\n",
       "     Knee_and_elbow  ...  Granular_layer  Vacuolisation  Spongiosis  \\\n",
       "0               0.0  ...             0.0            0.0    3.000000   \n",
       "1               0.0  ...             1.0            0.0    2.000000   \n",
       "2               0.0  ...             0.0            0.0    0.000000   \n",
       "3               0.0  ...             0.0            0.0    3.000000   \n",
       "4               0.0  ...             0.0            0.0    2.000000   \n",
       "..              ...  ...             ...            ...         ...   \n",
       "380             0.0  ...             0.0            0.0    0.000000   \n",
       "381             0.0  ...             0.0            0.0    0.000000   \n",
       "382             0.0  ...             0.0            0.0    0.000000   \n",
       "383             0.0  ...             0.0            0.0    0.070323   \n",
       "384             0.0  ...             0.0            0.0    0.000000   \n",
       "\n",
       "     Saw-tooth_appearance  Follicular_horn_plug  Perifollicular_parakeratosis  \\\n",
       "0                     0.0                   0.0                           0.0   \n",
       "1                     0.0                   0.0                           0.0   \n",
       "2                     0.0                   0.0                           0.0   \n",
       "3                     0.0                   0.0                           0.0   \n",
       "4                     0.0                   0.0                           0.0   \n",
       "..                    ...                   ...                           ...   \n",
       "380                   0.0                   0.0                           0.0   \n",
       "381                   0.0                   0.0                           0.0   \n",
       "382                   0.0                   0.0                           0.0   \n",
       "383                   0.0                   0.0                           0.0   \n",
       "384                   0.0                   0.0                           0.0   \n",
       "\n",
       "     Inflammatory_monoluclear  Band-like_infiltrate        Age  Class  \n",
       "0                    2.000000                   0.0  35.000000    4.0  \n",
       "1                    3.000000                   0.0  48.000000    4.0  \n",
       "2                    1.000000                   0.0  35.000000    5.0  \n",
       "3                    2.000000                   0.0  33.000000    2.0  \n",
       "4                    0.000000                   0.0  20.000000    2.0  \n",
       "..                        ...                   ...        ...    ...  \n",
       "380                  1.000000                   0.0  51.423886    5.0  \n",
       "381                  1.000000                   0.0  27.568410    5.0  \n",
       "382                  1.056172                   0.0  69.803398    5.0  \n",
       "383                  2.929677                   0.0  29.070323    5.0  \n",
       "384                  1.324190                   0.0  33.648380    5.0  \n",
       "\n",
       "[385 rows x 36 columns]"
      ]
     },
     "execution_count": 6,
     "metadata": {},
     "output_type": "execute_result"
    }
   ],
   "source": [
    "import numpy as np\n",
    "import matplotlib.pyplot as plt\n",
    "import pandas as pd\n",
    "import seaborn as sea\n",
    "\n",
    "from copy import deepcopy\n",
    "\n",
    "from sklearn.model_selection import train_test_split\n",
    "from sklearn.metrics import precision_recall_fscore_support, accuracy_score\n",
    "\n",
    "from pandas_profiling import ProfileReport\n",
    "\n",
    "#### Carga de datos\n",
    "\n",
    "trn_filename = 'DERMATOLOGY_trn.csv'\n",
    "tst_filename = 'DERMATOLOGY_tst.csv'\n",
    "\n",
    "\n",
    "#---------------------\n",
    "# Carga de datos\n",
    "#---------------------\n",
    "data_trn = pd.read_csv(trn_filename, index_col=False, header=0)\n",
    "data_tst = pd.read_csv(tst_filename, index_col=False, header=0)\n",
    "\n",
    "tiposData_trn = data_trn.dtypes\n",
    "tiposdata_tst = data_tst.dtypes\n",
    "\n",
    "desc_data_trn = data_trn.describe()\n",
    "desc_data_tst = data_tst.describe()\n",
    "\n",
    "data_trn"
   ]
  },
  {
   "cell_type": "code",
   "execution_count": 7,
   "id": "d3e6def6",
   "metadata": {},
   "outputs": [],
   "source": [
    "#-----------------------------------\n",
    "# Separamos patrones de etiquetas\n",
    "#-----------------------------------\n",
    "X_TRN = data_trn.iloc[:,:-1]  # Features - patrones training + validation\n",
    "Y_TRN = data_trn.iloc[:,-1]  # Clases - patrones training + validation\n",
    "\n",
    "X_tst = data_tst.iloc[:,:-1]  # Features - patrones test\n",
    "y_tst = data_tst.iloc[:,-1]  # Clases - patrones test"
   ]
  },
  {
   "cell_type": "markdown",
   "id": "2387b2f6",
   "metadata": {},
   "source": [
    "#### Exploración de datos"
   ]
  },
  {
   "cell_type": "code",
   "execution_count": 8,
   "id": "06e97034",
   "metadata": {},
   "outputs": [
    {
     "name": "stdout",
     "output_type": "stream",
     "text": [
      "Datos faltantes en Train, [('Erythema', 10), ('Oral_mucosal', 4), ('Melanin_incontinence', 10)]\n",
      "4.0    77\n",
      "5.0    77\n",
      "2.0    77\n",
      "1.0    77\n",
      "3.0    77\n",
      "Name: Class, dtype: int64\n"
     ]
    }
   ],
   "source": [
    "#---------------------\n",
    "# Analizando datos\n",
    "#---------------------\n",
    "\n",
    "#Chequeo variables faltantes en mis datos de entrenamiento\n",
    "faltantes  = [(faltante,X_TRN[faltante].isna().sum()) for faltante in X_TRN if X_TRN[faltante].isnull().sum()]\n",
    "print(\"Datos faltantes en Train,\",faltantes)\n",
    "\n",
    "#¿Datos balanceados?\n",
    "print(Y_TRN.value_counts())"
   ]
  },
  {
   "cell_type": "markdown",
   "id": "e0345ee7",
   "metadata": {},
   "source": [
    "Podemos ver que nuestro set de entrenamiento X_TRN posee algunos datos faltantes en tres variables, estas son, _Erythema_, _Oral_mucosal_ y _Melanin_incontinence_.\n",
    "\n",
    "Las cantidades son,\n",
    "- _Erythema_ = 10\n",
    "- _Oral_mucosal_ = 4\n",
    "- _Melanin_incontinence_ = 10\n"
   ]
  },
  {
   "cell_type": "markdown",
   "id": "9c977daf",
   "metadata": {},
   "source": [
    "#### ¿Los datos están balanceados?"
   ]
  },
  {
   "cell_type": "code",
   "execution_count": 9,
   "id": "6f9ecf6b",
   "metadata": {},
   "outputs": [],
   "source": [
    "profile_data_trn = ProfileReport(data_trn, title = \"Reporte datos de entrenamiento\")\n",
    "#profile_data_trn"
   ]
  },
  {
   "cell_type": "code",
   "execution_count": 10,
   "id": "3b50ac4d",
   "metadata": {},
   "outputs": [
    {
     "data": {
      "text/plain": [
       "4.0    77\n",
       "5.0    77\n",
       "2.0    77\n",
       "1.0    77\n",
       "3.0    77\n",
       "Name: Class, dtype: int64"
      ]
     },
     "execution_count": 10,
     "metadata": {},
     "output_type": "execute_result"
    }
   ],
   "source": [
    "Y_TRN.value_counts()"
   ]
  },
  {
   "cell_type": "markdown",
   "id": "f90b2695",
   "metadata": {},
   "source": [
    "Si analizamos el reporte otorgado por pandas_profiling, la cantidad de datos faltanes respecto de los datos que sí tenemos y que la cantidad de clases a evaluar están balanceadas, podría decir que tenemos datos balanceados al menos desde el punto de vista de datos disponibles que queremos utilizar para entrenar nuestros clasificadores. Al parecer, el balance entre los datos disponibles para cada clase parece indicar que no tendríamos una inclinación y/o sesgo a la hora de entrenar algún algorítmo."
   ]
  },
  {
   "cell_type": "code",
   "execution_count": 11,
   "id": "87868824",
   "metadata": {},
   "outputs": [
    {
     "data": {
      "text/plain": [
       "<seaborn.axisgrid.PairGrid at 0x292a6146310>"
      ]
     },
     "execution_count": 11,
     "metadata": {},
     "output_type": "execute_result"
    },
    {
     "data": {
      "image/png": "[encoded data removed]",
      "text/plain": [
       "<Figure size 1080x1080 with 42 Axes>"
      ]
     },
     "metadata": {
      "needs_background": "light"
     },
     "output_type": "display_data"
    }
   ],
   "source": [
    "sea.pairplot(data_trn.loc[:,[\"Polygonal_papules\", \"Hyperkeratosis\",\"Vacuolisation\",\n",
    "                             \"Saw-tooth_appearance\",\"Band-like_infiltrate\",\"Focal_hypergranulosis\"]])"
   ]
  },
  {
   "cell_type": "markdown",
   "id": "4c60e6ad",
   "metadata": {},
   "source": [
    "##### Separo datos para entrenamiento y validación\n",
    "\n",
    "80% de los patrones para entrenamiento y 20% para validación."
   ]
  },
  {
   "cell_type": "code",
   "execution_count": 20,
   "id": "2f2b6d39",
   "metadata": {},
   "outputs": [],
   "source": [
    "X_trn, X_val, y_trn, y_val = train_test_split(X_TRN, Y_TRN, test_size=.2)"
   ]
  },
  {
   "cell_type": "markdown",
   "id": "514d2061",
   "metadata": {},
   "source": [
    "Relleno valores faltantes con la media de cada feature\n",
    "\n",
    "**NOTA**: Esto estaba implementado en la entrega anterior."
   ]
  },
  {
   "cell_type": "code",
   "execution_count": 23,
   "id": "03ebda41",
   "metadata": {},
   "outputs": [],
   "source": [
    "for faltante in faltantes:\n",
    "    X_trn[faltante[0]].fillna(int(X_trn[faltante[0]].mean()), inplace=True)\n",
    "    X_val[faltante[0]].fillna(int(X_val[faltante[0]].mean()), inplace=True)"
   ]
  },
  {
   "cell_type": "code",
   "execution_count": 24,
   "id": "f9bc2e6f",
   "metadata": {},
   "outputs": [
    {
     "name": "stdout",
     "output_type": "stream",
     "text": [
      "Datos faltantes de Xtrain,  [('Erythema', 0), ('Oral_mucosal', 0), ('Melanin_incontinence', 0)]\n",
      "Datos faltantes de Xval,  [('Erythema', 0), ('Oral_mucosal', 0), ('Melanin_incontinence', 0)]\n"
     ]
    }
   ],
   "source": [
    "#---------------------\n",
    "# Analizando datos\n",
    "#---------------------\n",
    "\n",
    "#Chequeo variables faltantes en mis datos de entrenamiento\n",
    "faltantesX_trn  = [(faltante,X_trn[faltante].isna().sum()) for faltante in X_TRN if X_TRN[faltante].isnull().sum()]\n",
    "faltantesX_val  = [(faltante,X_val[faltante].isna().sum()) for faltante in X_TRN if X_TRN[faltante].isnull().sum()]\n",
    "print(\"Datos faltantes de Xtrain, \",faltantesX_trn)\n",
    "print(\"Datos faltantes de Xval, \",faltantesX_val)"
   ]
  },
  {
   "cell_type": "markdown",
   "id": "d5ac69ec",
   "metadata": {},
   "source": [
    "### Normalizando datos"
   ]
  },
  {
   "cell_type": "code",
   "execution_count": 25,
   "id": "c0d82c94",
   "metadata": {},
   "outputs": [],
   "source": [
    "from sklearn.preprocessing import MinMaxScaler\n",
    "\n",
    "X_trn = MinMaxScaler().fit_transform(X_trn)\n",
    "X_val = MinMaxScaler().fit_transform(X_val)\n",
    "X_tst = MinMaxScaler().fit_transform(X_tst)"
   ]
  },
  {
   "cell_type": "markdown",
   "id": "b6c0a227",
   "metadata": {},
   "source": [
    "## Proyección de los datos y visualización\n",
    "\n",
    "- Utilice PCA y obtenga las componentes principales para este dataset utilizando PCA y LDA.\n",
    "- ¿Qué porcentaje de la varianza explican las 2 primeras componentes con cada técnica?.\n",
    "- Construya un gráfico compuesto por 2 subplots:\n",
    "  - Subplot 1: Gráfico 2D mostrando la distribución de los datos empleando las 2 componentes más importantes encontradas mediante PCA.\n",
    "  - Subplot 2: Gráfico 2D mostrando la distribución de los datos empleando las 2 componentes más importantes encontradas mediante LDA."
   ]
  },
  {
   "cell_type": "markdown",
   "id": "5dc2a02e",
   "metadata": {},
   "source": [
    "#### PCA"
   ]
  },
  {
   "cell_type": "code",
   "execution_count": 26,
   "id": "74014c27",
   "metadata": {},
   "outputs": [],
   "source": [
    "from sklearn.decomposition import PCA\n",
    "from sklearn.discriminant_analysis import LinearDiscriminantAnalysis"
   ]
  },
  {
   "cell_type": "code",
   "execution_count": 27,
   "id": "bf72da7f",
   "metadata": {},
   "outputs": [],
   "source": [
    "pca = PCA(n_components = 2)\n",
    "pca.fit(X_trn)\n",
    "\n",
    "#proyecto los datos con el PCA\n",
    "Xtrn_pca = pca.transform(X_trn)\n",
    "X_val_pca = pca.transform(X_val)\n",
    "X_tst_pca = pca.transform(X_tst)"
   ]
  },
  {
   "cell_type": "markdown",
   "id": "6e583cac",
   "metadata": {},
   "source": [
    "##### Gráfica de dispersión y varianza acumulada\n",
    "\n",
    "Van gráficos en subplots.\n",
    "\n",
    "**Nota**: Pido disculpas por no implementarlo antes, no pense que era obligatorio."
   ]
  },
  {
   "cell_type": "code",
   "execution_count": 28,
   "id": "35ca089a",
   "metadata": {},
   "outputs": [
    {
     "data": {
      "image/png": "[encoded data removed]",
      "text/plain": [
       "<Figure size 864x432 with 2 Axes>"
      ]
     },
     "metadata": {
      "needs_background": "light"
     },
     "output_type": "display_data"
    }
   ],
   "source": [
    "title = \"Gráficos para PCA\"\n",
    "fig, plots = plt.subplots(1, 2, figsize=(12, 6), gridspec_kw=dict(hspace=0.45, wspace=0.3))\n",
    "fig.suptitle(title, fontsize = 16)\n",
    "\n",
    "#Gráfica dispersión\n",
    "plots[0].scatter(Xtrn_pca[:,0], Xtrn_pca[:,1], color = \"#403e7d\")\n",
    "plots[0].set_xlabel('Primera componente principal')\n",
    "plots[0].set_ylabel('Segunda componente principal')\n",
    "plots[0].set_title('Datos de entrenamiento proyectados mediante PCA')\n",
    "#plots[0].xaxis.grid(True)\n",
    "#plots[0].legend()\n",
    "\n",
    "#Gráfica de varianza acumulada\n",
    "plots[1].plot(np.cumsum(pca.explained_variance_ratio_), color = \"#403e7d\")\n",
    "plots[1].set_xlabel('Componentes')\n",
    "plots[1].set_ylabel('Varianza acumulada')\n",
    "plots[1].set_title('Varianza acumulada de PCA')\n",
    "\n",
    "plt.show()"
   ]
  },
  {
   "cell_type": "markdown",
   "id": "435ec607",
   "metadata": {},
   "source": [
    "#### LDA\n",
    "\n",
    "##### Gráfica de dispersión y varianza acumulada"
   ]
  },
  {
   "cell_type": "code",
   "execution_count": 29,
   "id": "ba58eb3e",
   "metadata": {},
   "outputs": [],
   "source": [
    "lda = LinearDiscriminantAnalysis(n_components = 2)\n",
    "lda.fit(X_trn, y_trn)\n",
    "\n",
    "#proyecto los datos con el PCA\n",
    "Xtrn_lda = lda.transform(X_trn)\n",
    "X_val_lda = lda.transform(X_val)\n",
    "X_tst_lda = lda.transform(X_tst)"
   ]
  },
  {
   "cell_type": "code",
   "execution_count": 30,
   "id": "c7f27b6f",
   "metadata": {},
   "outputs": [
    {
     "data": {
      "image/png": "[encoded data removed]",
      "text/plain": [
       "<Figure size 864x432 with 2 Axes>"
      ]
     },
     "metadata": {
      "needs_background": "light"
     },
     "output_type": "display_data"
    }
   ],
   "source": [
    "title = \"Gráficos para LDA\"\n",
    "fig, plots = plt.subplots(1, 2, figsize=(12, 6), gridspec_kw=dict(hspace=0.45, wspace=0.3))\n",
    "fig.suptitle(title, fontsize = 16)\n",
    "\n",
    "#Gráfica dispersión\n",
    "plots[0].scatter(Xtrn_lda[:,0], Xtrn_lda[:,1], color = \"#403e7d\")\n",
    "plots[0].set_xlabel('Primera componente principal')\n",
    "plots[0].set_ylabel('Segunda componente principal')\n",
    "plots[0].set_title(\"Datos de entrenamiento proyectados mediante LDA\")\n",
    "#plots[0].xaxis.grid(True)\n",
    "#plots[0].legend()\n",
    "\n",
    "#Gráfica de varianza acumulada\n",
    "plots[1].plot(np.cumsum(lda.explained_variance_ratio_), color = \"#403e7d\")\n",
    "plots[1].set_xlabel('Componentes')\n",
    "plots[1].set_ylabel('Varianza acumulada')\n",
    "plots[1].set_title('Varianza acumulada de LDA')\n",
    "\n",
    "plt.show()"
   ]
  },
  {
   "cell_type": "markdown",
   "id": "02c8a8e9",
   "metadata": {},
   "source": [
    "### Estructura para guardar métricas"
   ]
  },
  {
   "cell_type": "code",
   "execution_count": 31,
   "id": "6abfb821",
   "metadata": {},
   "outputs": [],
   "source": [
    "METRICAS = {'modelo': {'trn': {'Pr': None, 'Rc': None, 'Acc': None, 'F1':None},\n",
    "                       'val': {'Pr': None, 'Rc': None, 'Acc': None, 'F1':None},\n",
    "                       'tst': {'Pr': None, 'Rc': None, 'Acc': None, 'F1':None}},\n",
    "            'modelo+pca': {'trn': {'Pr': None, 'Rc': None, 'Acc': None, 'F1':None},\n",
    "                           'val': {'Pr': None, 'Rc': None, 'Acc': None, 'F1':None},\n",
    "                           'tst': {'Pr': None, 'Rc': None, 'Acc': None, 'F1':None}},\n",
    "            'modelo+lda': {'trn': {'Pr': None, 'Rc': None, 'Acc': None, 'F1':None},\n",
    "                           'val': {'Pr': None, 'Rc': None, 'Acc': None, 'F1':None},\n",
    "                           'tst': {'Pr': None, 'Rc': None, 'Acc': None, 'F1':None}}}"
   ]
  },
  {
   "cell_type": "markdown",
   "id": "2c4765ac",
   "metadata": {},
   "source": [
    "### Clasificador\n",
    "\n",
    "Se propone un SVM"
   ]
  },
  {
   "cell_type": "code",
   "execution_count": 32,
   "id": "1ec31239",
   "metadata": {},
   "outputs": [],
   "source": [
    "# SVM\n",
    "from sklearn.svm import SVC #https://scikit-learn.org/stable/modules/generated/sklearn.svm.SVC.html\n",
    "from sklearn.metrics import accuracy_score"
   ]
  },
  {
   "cell_type": "code",
   "execution_count": 33,
   "id": "ccbaa237",
   "metadata": {},
   "outputs": [],
   "source": [
    "modelo = SVC(C = 9e-1, kernel = \"rbf\", gamma = 1e-1)\n",
    "\n",
    "model_full = deepcopy(modelo)\n",
    "model_pca = deepcopy(modelo)\n",
    "model_lda = deepcopy(modelo)"
   ]
  },
  {
   "cell_type": "markdown",
   "id": "a3114ad3",
   "metadata": {},
   "source": [
    "#### Entrenamiento del modelo con todas las features"
   ]
  },
  {
   "cell_type": "code",
   "execution_count": 34,
   "id": "228d38d1",
   "metadata": {},
   "outputs": [
    {
     "data": {
      "text/plain": [
       "SVC(C=0.9, gamma=0.1)"
      ]
     },
     "execution_count": 34,
     "metadata": {},
     "output_type": "execute_result"
    }
   ],
   "source": [
    "model_full.fit(X_trn, y_trn)"
   ]
  },
  {
   "cell_type": "markdown",
   "id": "da17d907",
   "metadata": {},
   "source": [
    "#### Predicciones"
   ]
  },
  {
   "cell_type": "code",
   "execution_count": 35,
   "id": "10e5e12b",
   "metadata": {},
   "outputs": [],
   "source": [
    "#predicciones modelo completo\n",
    "y_pred = model_full.predict(X_trn)"
   ]
  },
  {
   "cell_type": "markdown",
   "id": "8e90f213",
   "metadata": {},
   "source": [
    "#### Cálculo de métricas utilizando el modelo completo con todas las features"
   ]
  },
  {
   "cell_type": "code",
   "execution_count": 36,
   "id": "a00858ef",
   "metadata": {},
   "outputs": [],
   "source": [
    "# Cálculo de métricas para modelo completo\n",
    "precision, recall, f1,_ = precision_recall_fscore_support(y_trn, y_pred, average='macro')\n",
    "accuracy = accuracy_score(y_trn, y_pred)\n",
    "\n",
    "# Guardo métricas\n",
    "METRICAS['modelo']['trn']['Pr'] = precision\n",
    "METRICAS['modelo']['trn']['Rc'] = recall\n",
    "METRICAS['modelo']['trn']['Acc'] = accuracy\n",
    "METRICAS['modelo']['trn']['F1'] = f1"
   ]
  },
  {
   "cell_type": "markdown",
   "id": "2d8f2e89",
   "metadata": {},
   "source": [
    "##### Predicciones modelo completo sobre datos de validación"
   ]
  },
  {
   "cell_type": "code",
   "execution_count": 37,
   "id": "e0454d91",
   "metadata": {},
   "outputs": [],
   "source": [
    "y_pred = model_full.predict(X_val)\n",
    "\n",
    "# Cálculo de métricas\n",
    "precision, recall, f1,_ = precision_recall_fscore_support(y_val, y_pred, average='macro')\n",
    "accuracy = accuracy_score(y_val, y_pred)\n",
    "\n",
    "# Guardo métricas\n",
    "METRICAS['modelo']['val']['Pr'] = precision\n",
    "METRICAS['modelo']['val']['Rc'] = recall\n",
    "METRICAS['modelo']['val']['Acc'] = accuracy\n",
    "METRICAS['modelo']['val']['F1'] = f1"
   ]
  },
  {
   "cell_type": "markdown",
   "id": "fbb5b12b",
   "metadata": {},
   "source": [
    "##### Predicciones modelo completo sobre datos de test"
   ]
  },
  {
   "cell_type": "code",
   "execution_count": 38,
   "id": "b0be235a",
   "metadata": {},
   "outputs": [],
   "source": [
    "#predicciones modelo completo sobre datos de test\n",
    "y_pred = model_full.predict(X_tst)\n",
    "\n",
    "# Cálculo de métricas\n",
    "precision, recall, f1,_ = precision_recall_fscore_support(y_tst, y_pred, average='macro')\n",
    "accuracy = accuracy_score(y_tst, y_pred)\n",
    "\n",
    "# Guardo métricas\n",
    "METRICAS['modelo']['tst']['Pr'] = precision\n",
    "METRICAS['modelo']['tst']['Rc'] = recall\n",
    "METRICAS['modelo']['tst']['Acc'] = accuracy\n",
    "METRICAS['modelo']['tst']['F1'] = f1"
   ]
  },
  {
   "cell_type": "markdown",
   "id": "8acc9651",
   "metadata": {},
   "source": [
    "### PCA y validación"
   ]
  },
  {
   "cell_type": "code",
   "execution_count": 39,
   "id": "2427d508",
   "metadata": {},
   "outputs": [
    {
     "data": {
      "text/plain": [
       "SVC(C=0.9, gamma=0.1)"
      ]
     },
     "execution_count": 39,
     "metadata": {},
     "output_type": "execute_result"
    }
   ],
   "source": [
    "model_pca.fit(Xtrn_pca, y_trn)"
   ]
  },
  {
   "cell_type": "markdown",
   "id": "add223fc",
   "metadata": {},
   "source": [
    "##### Predicciones del modelo + PCA sobre datos de entrenamiento"
   ]
  },
  {
   "cell_type": "code",
   "execution_count": 42,
   "id": "7210a86d",
   "metadata": {},
   "outputs": [
    {
     "name": "stderr",
     "output_type": "stream",
     "text": [
      "C:\\Users\\Lucas\\Anaconda3\\envs\\AADoc\\lib\\site-packages\\sklearn\\metrics\\_classification.py:1248: UndefinedMetricWarning: Precision and F-score are ill-defined and being set to 0.0 in labels with no predicted samples. Use `zero_division` parameter to control this behavior.\n",
      "  _warn_prf(average, modifier, msg_start, len(result))\n"
     ]
    }
   ],
   "source": [
    "#predicciones del modelo usando PCA\n",
    "y_pred = model_pca.predict(Xtrn_pca)\n",
    "\n",
    "# Calculo las métricas\n",
    "precision, recall, f1,_ = precision_recall_fscore_support(y_trn, y_pred, average='macro')\n",
    "accuracy = accuracy_score(y_trn, y_pred)\n",
    "\n",
    "# Guardo las métricas\n",
    "METRICAS['modelo+pca']['trn']['Pr'] = precision\n",
    "METRICAS['modelo+pca']['trn']['Rc'] = recall\n",
    "METRICAS['modelo+pca']['trn']['Acc'] = accuracy\n",
    "METRICAS['modelo+pca']['trn']['F1'] = f1"
   ]
  },
  {
   "cell_type": "markdown",
   "id": "eb3a50a7",
   "metadata": {},
   "source": [
    "##### Predicciones del modelo + PCA sobre datos de validación"
   ]
  },
  {
   "cell_type": "code",
   "execution_count": 43,
   "id": "6363e2ed",
   "metadata": {},
   "outputs": [
    {
     "name": "stderr",
     "output_type": "stream",
     "text": [
      "C:\\Users\\Lucas\\Anaconda3\\envs\\AADoc\\lib\\site-packages\\sklearn\\metrics\\_classification.py:1248: UndefinedMetricWarning: Precision and F-score are ill-defined and being set to 0.0 in labels with no predicted samples. Use `zero_division` parameter to control this behavior.\n",
      "  _warn_prf(average, modifier, msg_start, len(result))\n"
     ]
    }
   ],
   "source": [
    "#predicciones modelo + PCA sobre datos de validación\n",
    "y_pred = model_pca.predict(X_val_pca)\n",
    "\n",
    "# Cálculo de métricas\n",
    "precision, recall, f1,_ = precision_recall_fscore_support(y_val, y_pred, average='macro')\n",
    "accuracy = accuracy_score(y_val, y_pred)\n",
    "\n",
    "# Guardo métricas\n",
    "METRICAS['modelo+pca']['val']['Pr'] = precision\n",
    "METRICAS['modelo+pca']['val']['Rc'] = recall\n",
    "METRICAS['modelo+pca']['val']['Acc'] = accuracy\n",
    "METRICAS['modelo+pca']['val']['F1'] = f1"
   ]
  },
  {
   "cell_type": "markdown",
   "id": "f4f35908",
   "metadata": {},
   "source": [
    "##### Predicciones modelo + PCA sobre datos de test"
   ]
  },
  {
   "cell_type": "code",
   "execution_count": 44,
   "id": "275c10e2",
   "metadata": {},
   "outputs": [
    {
     "name": "stderr",
     "output_type": "stream",
     "text": [
      "C:\\Users\\Lucas\\Anaconda3\\envs\\AADoc\\lib\\site-packages\\sklearn\\metrics\\_classification.py:1248: UndefinedMetricWarning: Precision and F-score are ill-defined and being set to 0.0 in labels with no predicted samples. Use `zero_division` parameter to control this behavior.\n",
      "  _warn_prf(average, modifier, msg_start, len(result))\n"
     ]
    }
   ],
   "source": [
    "#predicciones modelo + PCA sobre datos de test\n",
    "y_pred = model_pca.predict(X_tst_pca)\n",
    "\n",
    "# Cálculo de métricas\n",
    "precision, recall, f1,_ = precision_recall_fscore_support(y_tst, y_pred, average='macro')\n",
    "accuracy = accuracy_score(y_tst, y_pred)\n",
    "\n",
    "# Guardo métricas\n",
    "METRICAS['modelo+pca']['tst']['Pr'] = precision\n",
    "METRICAS['modelo+pca']['tst']['Rc'] = recall\n",
    "METRICAS['modelo+pca']['tst']['Acc'] = accuracy\n",
    "METRICAS['modelo+pca']['tst']['F1'] = f1"
   ]
  },
  {
   "cell_type": "markdown",
   "id": "9186b2ae",
   "metadata": {},
   "source": [
    "### LDA"
   ]
  },
  {
   "cell_type": "code",
   "execution_count": 45,
   "id": "592fe5db",
   "metadata": {},
   "outputs": [
    {
     "data": {
      "text/plain": [
       "SVC(C=0.9, gamma=0.1)"
      ]
     },
     "execution_count": 45,
     "metadata": {},
     "output_type": "execute_result"
    }
   ],
   "source": [
    "model_pca.fit(Xtrn_lda, y_trn)"
   ]
  },
  {
   "cell_type": "markdown",
   "id": "50ed93e6",
   "metadata": {},
   "source": [
    "##### Predicciones del modelo usando PCA"
   ]
  },
  {
   "cell_type": "code",
   "execution_count": 46,
   "id": "01313331",
   "metadata": {},
   "outputs": [],
   "source": [
    "#predicciones del modelo usando PCA\n",
    "y_pred = model_pca.predict(Xtrn_lda)\n",
    "\n",
    "# Calculo las métricas\n",
    "precision, recall, f1,_ = precision_recall_fscore_support(y_trn, y_pred, average='macro')\n",
    "accuracy = accuracy_score(y_trn, y_pred)\n",
    "\n",
    "# Guardo las métricas\n",
    "METRICAS['modelo+lda']['trn']['Pr'] = precision\n",
    "METRICAS['modelo+lda']['trn']['Rc'] = recall\n",
    "METRICAS['modelo+lda']['trn']['Acc'] = accuracy\n",
    "METRICAS['modelo+lda']['trn']['F1'] = f1"
   ]
  },
  {
   "cell_type": "markdown",
   "id": "2c2fb5f3",
   "metadata": {},
   "source": [
    "##### Predicciones modelo + LDA sobre datos de validación"
   ]
  },
  {
   "cell_type": "code",
   "execution_count": 47,
   "id": "b2bc2358",
   "metadata": {},
   "outputs": [],
   "source": [
    "#predicciones modelo + LDA sobre datos de validación\n",
    "y_pred = model_pca.predict(X_val_lda)\n",
    "\n",
    "# Cálculo de métricas\n",
    "precision, recall, f1,_ = precision_recall_fscore_support(y_val, y_pred, average='macro')\n",
    "accuracy = accuracy_score(y_val, y_pred)\n",
    "\n",
    "# Guardo métricas\n",
    "METRICAS['modelo+lda']['val']['Pr'] = precision\n",
    "METRICAS['modelo+lda']['val']['Rc'] = recall\n",
    "METRICAS['modelo+lda']['val']['Acc'] = accuracy\n",
    "METRICAS['modelo+lda']['val']['F1'] = f1"
   ]
  },
  {
   "cell_type": "markdown",
   "id": "e45af7a1",
   "metadata": {},
   "source": [
    "##### Predicciones modelo + PCA sobre datos de test"
   ]
  },
  {
   "cell_type": "code",
   "execution_count": 48,
   "id": "9d568f45",
   "metadata": {},
   "outputs": [],
   "source": [
    "#predicciones modelo + PCA sobre datos de test\n",
    "y_pred = model_pca.predict(X_tst_lda)\n",
    "\n",
    "# Cálculo de métricas\n",
    "precision, recall, f1,_ = precision_recall_fscore_support(y_tst, y_pred, average='macro')\n",
    "accuracy = accuracy_score(y_tst, y_pred)\n",
    "\n",
    "# Guardo métricas\n",
    "METRICAS['modelo+lda']['tst']['Pr'] = precision\n",
    "METRICAS['modelo+lda']['tst']['Rc'] = recall\n",
    "METRICAS['modelo+lda']['tst']['Acc'] = accuracy\n",
    "METRICAS['modelo+lda']['tst']['F1'] = f1"
   ]
  },
  {
   "cell_type": "markdown",
   "id": "af260f24",
   "metadata": {},
   "source": [
    "### Resultados comparativos"
   ]
  },
  {
   "cell_type": "markdown",
   "id": "c335dfdd",
   "metadata": {},
   "source": [
    "#### Sobre train"
   ]
  },
  {
   "cell_type": "code",
   "execution_count": 49,
   "id": "0b5538ef",
   "metadata": {},
   "outputs": [
    {
     "name": "stdout",
     "output_type": "stream",
     "text": [
      "\n",
      "------------------------------------------\n",
      ":::                TRAIN               :::\n",
      "------------------------------------------\n",
      "Features    Precision  Recall   Acc     F1\n",
      "Full        0.9871     0.9873   0.987  0.9871\n",
      "PCA         0.6671     0.749   0.7532  0.6929\n",
      "LDA         0.838     0.8314   0.8279  0.8258\n"
     ]
    }
   ],
   "source": [
    "# Resultados comparativos\n",
    "print('\\n------------------------------------------')\n",
    "print(':::                TRAIN               :::')\n",
    "print('------------------------------------------')\n",
    "print('Features    Precision  Recall   Acc     F1')\n",
    "\n",
    "m1 = METRICAS['modelo']['trn']\n",
    "print(f\"Full        {m1['Pr']:.4}     {m1['Rc']:.4}   {m1['Acc']:.4}  {m1['F1']:.4}\")\n",
    "m2 = METRICAS['modelo+pca']['trn']\n",
    "print(f\"PCA         {m2['Pr']:.4}     {m2['Rc']:.4}   {m2['Acc']:.4}  {m2['F1']:.4}\")\n",
    "m3 = METRICAS['modelo+lda']['trn']\n",
    "print(f\"LDA         {m3['Pr']:.4}     {m3['Rc']:.4}   {m3['Acc']:.4}  {m3['F1']:.4}\")"
   ]
  },
  {
   "cell_type": "markdown",
   "id": "a12b300f",
   "metadata": {},
   "source": [
    "#### Sobre validation"
   ]
  },
  {
   "cell_type": "code",
   "execution_count": 50,
   "id": "7042dd14",
   "metadata": {},
   "outputs": [
    {
     "name": "stdout",
     "output_type": "stream",
     "text": [
      "\n",
      "-----------------------------------------------\n",
      ":::               VALIDATION                :::\n",
      "-----------------------------------------------\n",
      "Features    Precision  Recall   Acc     F1\n",
      "Full        0.9589     0.9611   0.961  0.9596\n",
      "PCA         0.6659     0.7603   0.7403  0.6876\n",
      "LDA         0.8575     0.8536   0.8571  0.8545\n"
     ]
    }
   ],
   "source": [
    "print('\\n-----------------------------------------------')\n",
    "print(':::               VALIDATION                :::')\n",
    "print('-----------------------------------------------')\n",
    "print('Features    Precision  Recall   Acc     F1')\n",
    "\n",
    "m1 = METRICAS['modelo']['val']\n",
    "print(f\"Full        {m1['Pr']:.4}     {m1['Rc']:.4}   {m1['Acc']:.4}  {m1['F1']:.4}\")\n",
    "m2 = METRICAS['modelo+pca']['val']\n",
    "print(f\"PCA         {m2['Pr']:.4}     {m2['Rc']:.4}   {m2['Acc']:.4}  {m2['F1']:.4}\")\n",
    "m3 = METRICAS['modelo+lda']['val']\n",
    "print(f\"LDA         {m3['Pr']:.4}     {m3['Rc']:.4}   {m3['Acc']:.4}  {m3['F1']:.4}\")"
   ]
  },
  {
   "cell_type": "markdown",
   "id": "670fa937",
   "metadata": {},
   "source": [
    "#### Sobre test\n",
    "\n",
    "<span style=\"color:#C70039\"> _*Falta Sección de evaluación en test._</span>"
   ]
  },
  {
   "cell_type": "code",
   "execution_count": 51,
   "id": "351352e4",
   "metadata": {},
   "outputs": [
    {
     "name": "stdout",
     "output_type": "stream",
     "text": [
      "\n",
      "-----------------------------------------------\n",
      ":::               TEST                    :::\n",
      "-----------------------------------------------\n",
      "Features    Precision  Recall   Acc     F1\n",
      "Full        0.9511     0.9511   0.9615  0.9511\n",
      "PCA         0.6513     0.7244   0.7981  0.6748\n",
      "LDA         0.9151     0.8978   0.9135  0.8891\n"
     ]
    }
   ],
   "source": [
    "print('\\n-----------------------------------------------')\n",
    "print(':::               TEST                    :::')\n",
    "print('-----------------------------------------------')\n",
    "print('Features    Precision  Recall   Acc     F1')\n",
    "\n",
    "measures = METRICAS['modelo']['tst']\n",
    "print(f\"Full        {measures['Pr']:.4}     {measures['Rc']:.4}   {measures['Acc']:.4}  {measures['F1']:.4}\")\n",
    "measures = METRICAS['modelo+pca']['tst']\n",
    "print(f\"PCA         {measures['Pr']:.4}     {measures['Rc']:.4}   {measures['Acc']:.4}  {measures['F1']:.4}\")\n",
    "measures = METRICAS['modelo+lda']['tst']\n",
    "print(f\"LDA         {measures['Pr']:.4}     {measures['Rc']:.4}   {measures['Acc']:.4}  {measures['F1']:.4}\")"
   ]
  },
  {
   "cell_type": "markdown",
   "id": "bc80e3eb",
   "metadata": {},
   "source": [
    "<span style=\"color:#C70039\"> _*Se debe justificar qué modelo/features usaría y el por qué de la elección._</span>\n",
    "\n",
    "### Seleción de modelo/feature\n",
    "\n",
    "Utilizaría el SVM junto al LDA. En primer lugar, la técnica de LDA nos permite encontrar nuevos subespacios que intentan maximizar la separabilidad entre clases, lo cual podría facilitar el trabajo del SVM para clasificar. Por otro lado, LDA tiene en cuenta los labels de cada clase, mientras que PCA no."
   ]
  },
  {
   "cell_type": "code",
   "execution_count": 52,
   "id": "07d06303",
   "metadata": {},
   "outputs": [
    {
     "data": {
      "image/png": "[encoded data removed]",
      "text/plain": [
       "<Figure size 864x432 with 2 Axes>"
      ]
     },
     "metadata": {
      "needs_background": "light"
     },
     "output_type": "display_data"
    }
   ],
   "source": [
    "title = \"Proyección de datos de entrenamiento para LDA vs PCA \"\n",
    "fig, plots = plt.subplots(1, 2, figsize=(12, 6), gridspec_kw=dict(hspace=0.45, wspace=0.3))\n",
    "fig.suptitle(title, fontsize = 16)\n",
    "\n",
    "#Gráfica dispersión\n",
    "plots[0].scatter(Xtrn_lda[:,0], Xtrn_lda[:,1], color = \"#403e7d\", label = \"Proy. LDA\")\n",
    "plots[0].set_xlabel('Primera componente principal')\n",
    "plots[0].set_ylabel('Segunda componente principal')\n",
    "#plots[0].set_title(\"Datos de entrenamiento proyectados mediante LDA\")\n",
    "plots[0].legend(loc = 4)\n",
    "\n",
    "#Gráfica de varianza acumulada\n",
    "plots[1].scatter(Xtrn_pca[:,0], Xtrn_pca[:,1], color = \"#f37263\", label = \"Proy. PCA\")\n",
    "plots[1].set_xlabel('Primera componente principal')\n",
    "plots[1].set_ylabel('Segunda componente principal')\n",
    "#plots[1].set_title(\"Datos de entrenamiento proyectados mediante PCA\")\n",
    "plots[1].legend(loc = 4)\n",
    "\n",
    "plt.show()"
   ]
  },
  {
   "cell_type": "markdown",
   "id": "af2198a8",
   "metadata": {},
   "source": [
    "**Comentario:** No se como sacar los _Warnings_ cuando realizo las predicciones.\n",
    "\n",
    "**Comentario:** Habiendo normalizado los datos, la proyección de los datos y la posterior clasificación mejora sustancialmente, gracias por la observación."
   ]
  },
  {
   "cell_type": "code",
   "execution_count": null,
   "id": "1984ad71",
   "metadata": {},
   "outputs": [],
   "source": []
  }
 ],
 "metadata": {
  "kernelspec": {
   "display_name": "Python [conda env:AADoc]",
   "language": "python",
   "name": "conda-env-AADoc-py"
  },
  "language_info": {
   "codemirror_mode": {
    "name": "ipython",
    "version": 3
   },
   "file_extension": ".py",
   "mimetype": "text/x-python",
   "name": "python",
   "nbconvert_exporter": "python",
   "pygments_lexer": "ipython3",
   "version": "3.9.6"
  }
 },
 "nbformat": 4,
 "nbformat_minor": 5
}
