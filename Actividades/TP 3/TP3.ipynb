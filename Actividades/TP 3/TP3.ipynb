{
 "cells": [
  {
   "cell_type": "markdown",
   "metadata": {
    "id": "rbXAy_TluS-O"
   },
   "source": [
    "# Aprendizaje automático y aplicaciones\n",
    "\n",
    "---\n",
    "$A^3$ @ FI-UNER : 2021"
   ]
  },
  {
   "cell_type": "markdown",
   "metadata": {
    "id": "EAr1jx7SuS-V"
   },
   "source": [
    "## Objetivo\n",
    "Entrene un algoritmo capaz de clasificar la patología descripta a continuación en base a los tributos disponibles (o un subconjunto de ellos).\n",
    "\n",
    "## Descripción del problema\n",
    "\n",
    "El diagnóstico diferencial de las enfermedades eritemato-escamosas es un verdadero problema en dermatología. Todas ellas comparten las características clínicas de eritema y descamación, con muy pocas diferencias. Las enfermedades de este grupo son la psoriasis, la dermatitis sebórica, el liquen plano, la pitiriasis rosada y la dermatitis crónica. Normalmente es necesaria una biopsia para el diagnóstico, pero desgraciadamente estas enfermedades también comparten muchas características histopatológicas. Otra dificultad para el diagnóstico diferencial es que una enfermedad puede mostrar los rasgos de otra enfermedad en la fase inicial y puede tener los rasgos característicos en las fases siguientes. Los pacientes fueron evaluados primero clínicamente con 12 rasgos. Posteriormente, se tomaron muestras de piel para la evaluación de 22 rasgos histopatológicos. Los valores de los rasgos histopatológicos se determinan mediante un análisis de las muestras al microscopio.\n",
    "\n",
    "En este conjunto de datos, el rasgo de historia familiar tiene el valor 1 si se ha observado alguna de estas enfermedades en la familia, y 0 en caso contrario. La característica de edad representa simplemente la edad del paciente. A todas las demás características (clínicas e histopatológicas) se les dio un grado en el rango de 0 a 3. Aquí, 0 indica que la característica no estaba presente, 3 indica la mayor cantidad posible, y 1, 2 indican los valores intermedios relativos. Así, todos los atributos pueden tomar valores del conjunto {0, 1, 2, 3}, a excepción de la historia familiar (family history) que sólo puede tomar valores {0,1}."
   ]
  },
  {
   "cell_type": "markdown",
   "metadata": {
    "id": "cDxrnfQW6k4l"
   },
   "source": [
    "## Carga de bibliotecas"
   ]
  },
  {
   "cell_type": "code",
   "execution_count": null,
   "metadata": {
    "id": "6RheZEhn0huB"
   },
   "outputs": [],
   "source": [
    "import numpy as np\n",
    "import matplotlib.pyplot as plt\n",
    "import pandas as pd\n",
    "\n",
    "from copy import deepcopy\n",
    "\n",
    "from sklearn.model_selection import train_test_split\n",
    "from sklearn.metrics import precision_recall_fscore_support, accuracy_score"
   ]
  },
  {
   "cell_type": "markdown",
   "metadata": {
    "id": "RKKTU8QfXAEe"
   },
   "source": [
    "# Carga de datos"
   ]
  },
  {
   "cell_type": "code",
   "execution_count": null,
   "metadata": {
    "id": "pN_cwJhnyxvy",
    "tags": []
   },
   "outputs": [],
   "source": [
    "trn_filename = 'DERMATOLOGY_trn.csv'\n",
    "tst_filename = 'DERMATOLOGY_tst.csv'\n",
    "\n",
    "\n",
    "#---------------------\n",
    "# Carga de datos\n",
    "#---------------------\n",
    "data_trn = pd.read_csv(trn_filename, index_col=False, header=0)\n",
    "data_tst = pd.read_csv(tst_filename, index_col=False, header=0)"
   ]
  },
  {
   "cell_type": "code",
   "execution_count": null,
   "metadata": {
    "id": "39RY0niguS-l",
    "tags": []
   },
   "outputs": [],
   "source": [
    "#-----------------------------------\n",
    "# Separamos patrones de etiquetas\n",
    "#-----------------------------------\n",
    "X_TRN = data_trn.iloc[:,:-1]  # Features - patrones training + validation\n",
    "Y_TRN = data_trn.iloc[:,-1]  # Clases - patrones training + validation\n",
    "\n",
    "X_tst = data_tst.iloc[:,:-1]  # Features - patrones test\n",
    "y_tst = data_tst.iloc[:,-1]  # Clases - patrones test"
   ]
  },
  {
   "cell_type": "markdown",
   "metadata": {
    "id": "FwSn_bSLuS-n"
   },
   "source": [
    "## Exploración de datos"
   ]
  },
  {
   "cell_type": "code",
   "execution_count": null,
   "metadata": {
    "id": "T6M1Fyb8uS-o",
    "tags": []
   },
   "outputs": [],
   "source": []
  },
  {
   "cell_type": "markdown",
   "metadata": {
    "id": "ixgPoenBuS-p"
   },
   "source": [
    "- **¿Contiene datos faltantes el dataset?**\n",
    "\n",
    "...\n",
    "\n",
    "- *Si la respuesta es afirmativa*: **¿Para qué features y en qué cantidad?** \n",
    "(Confeccione una tabla con el nombre de la feature y el número de datos faltantes)\n",
    "\n",
    "...\n",
    "\n",
    "- **¿El dataset está balanceado?**\n",
    "\n",
    "..."
   ]
  },
  {
   "cell_type": "markdown",
   "metadata": {
    "id": "Fi6Na7P5uS-q"
   },
   "source": [
    "## Separo datos para entrenamiento y validación\n",
    "\n",
    "*Sugerencia*: Separar 80% de los patrones para entrenamiento y 20% para validación."
   ]
  },
  {
   "cell_type": "code",
   "execution_count": null,
   "metadata": {
    "id": "Fc9241nAuS-r",
    "tags": []
   },
   "outputs": [],
   "source": [
    "X_trn, X_val, y_trn, y_val = ..."
   ]
  },
  {
   "cell_type": "markdown",
   "metadata": {
    "id": "yXgkQw0AuS-s"
   },
   "source": [
    "## Imputación de datos *(si fuera necesario)*\n",
    "\n",
    "**Recordar**: Si el método debe aprender de los datos, antrenar en train y luego aplicar al resto."
   ]
  },
  {
   "cell_type": "code",
   "execution_count": null,
   "metadata": {
    "id": "p1UIBdsuuS-s",
    "tags": []
   },
   "outputs": [],
   "source": []
  },
  {
   "cell_type": "markdown",
   "metadata": {
    "id": "tFlBAPUVuS-t"
   },
   "source": [
    "## Estandarizo los datos *(si fuera necesario)*\n",
    "\n",
    "**Recordar**: Si el método debe aprender de los datos, antrenar en train y luego aplicar al resto."
   ]
  },
  {
   "cell_type": "code",
   "execution_count": null,
   "metadata": {
    "id": "u9TGbwk4uS-t",
    "tags": []
   },
   "outputs": [],
   "source": [
    "#transformation = ...\n",
    "\n",
    "##---------------------------------------------------\n",
    "## Aprendizaje de parámetros para los datos de train\n",
    "##---------------------------------------------------\n",
    "#transformation.fit(X_trn)\n",
    "\n",
    "##---------------------------------------------------\n",
    "## Transformación de datos train, validation y test\n",
    "##---------------------------------------------------\n",
    "#X_trn = transformation.transform(X_trn)\n",
    "#X_val = transformation.transform(X_val)\n",
    "#X_tst = transformation.transform(X_tst)"
   ]
  },
  {
   "cell_type": "markdown",
   "metadata": {
    "id": "PjnjHkjyuS-u"
   },
   "source": [
    "## Proyección de los datos y visualización\n",
    "\n",
    "- Utilice PCA y obtenga las componentes principales para este dataset utilizando PCA y LDA.\n",
    "- ¿Qué porcentaje de la varianza explican las 2 primeras componentes con cada técnica?.\n",
    "- Construya un gráfico compuesto por 2 subplots:\n",
    "  - Subplot 1: Gráfico 2D mostrando la distribución de los datos empleando las 2 componentes más importantes encontradas mediante PCA.\n",
    "  - Subplot 2: Gráfico 2D mostrando la distribución de los datos empleando las 2 componentes más importantes encontradas mediante LDA.\n"
   ]
  },
  {
   "cell_type": "code",
   "execution_count": null,
   "metadata": {
    "id": "oIgoQWI6uS-v"
   },
   "outputs": [],
   "source": [
    "from sklearn.decomposition import PCA\n",
    "from sklearn.discriminant_analysis import LinearDiscriminantAnalysis"
   ]
  },
  {
   "cell_type": "code",
   "execution_count": null,
   "metadata": {
    "id": "JgLso8hquS-w",
    "tags": []
   },
   "outputs": [],
   "source": [
    "# PCA\n",
    "pca = ...\n",
    "pca.fit(X_trn)  # Determino componentes PCA\n",
    "\n",
    "X_trn_pca = pca.transform(X_trn)  # Datos de train proyectados con PCA\n",
    "X_val_pca = pca.transform(X_val)  # Datos de validación proyectados con PCA\n",
    "X_tst_pca = pca.transform(X_tst)  # Datos de test proyectados con PCA"
   ]
  },
  {
   "cell_type": "code",
   "execution_count": null,
   "metadata": {
    "id": "qo7qFW59uS-x",
    "tags": []
   },
   "outputs": [],
   "source": [
    "print(f'Explained variance ratio [PCA]: {...}')"
   ]
  },
  {
   "cell_type": "code",
   "execution_count": null,
   "metadata": {
    "id": "zJuUdJuBuS-x",
    "tags": []
   },
   "outputs": [],
   "source": [
    "# LDA\n",
    "lda = ...\n",
    "lda.fit(X_trn, y_trn)  # Determino componentes LDA\n",
    "\n",
    "X_trn_lda = lda.transform(X_trn)  # Datos de train proyectados con LDA\n",
    "X_val_lda = lda.transform(X_val)  # Datos de validación proyectados con LDA\n",
    "X_tst_lda = lda.transform(X_tst)  # Datos de test proyectados con LDA"
   ]
  },
  {
   "cell_type": "code",
   "execution_count": null,
   "metadata": {
    "id": "5_iJFvEXuS-y",
    "tags": []
   },
   "outputs": [],
   "source": [
    "print(f'Explained variance ratio [LDA]: {...}')"
   ]
  },
  {
   "cell_type": "code",
   "execution_count": null,
   "metadata": {
    "id": "JSLgylWduS-y",
    "tags": []
   },
   "outputs": [],
   "source": [
    "# CONSTRUCCION DEL GRAFICO\n",
    "\n"
   ]
  },
  {
   "cell_type": "markdown",
   "metadata": {
    "id": "gn2r5mHNuS-z"
   },
   "source": [
    "## Genero estructura para guardar métricas"
   ]
  },
  {
   "cell_type": "code",
   "execution_count": null,
   "metadata": {
    "id": "laUsfef0uS-z",
    "tags": []
   },
   "outputs": [],
   "source": [
    "METRICAS = {'modelo': {'trn': {'Pr': None, 'Rc': None, 'Acc': None, 'F1':None},\n",
    "                       'val': {'Pr': None, 'Rc': None, 'Acc': None, 'F1':None},\n",
    "                       'tst': {'Pr': None, 'Rc': None, 'Acc': None, 'F1':None}},\n",
    "            'modelo+pca': {'trn': {'Pr': None, 'Rc': None, 'Acc': None, 'F1':None},\n",
    "                           'val': {'Pr': None, 'Rc': None, 'Acc': None, 'F1':None},\n",
    "                           'tst': {'Pr': None, 'Rc': None, 'Acc': None, 'F1':None}},\n",
    "            'modelo+lda': {'trn': {'Pr': None, 'Rc': None, 'Acc': None, 'F1':None},\n",
    "                           'val': {'Pr': None, 'Rc': None, 'Acc': None, 'F1':None},\n",
    "                           'tst': {'Pr': None, 'Rc': None, 'Acc': None, 'F1':None}}}"
   ]
  },
  {
   "cell_type": "markdown",
   "metadata": {
    "id": "4SkrLMFwuS-0"
   },
   "source": [
    "## Definición del modelo a utilizar"
   ]
  },
  {
   "cell_type": "code",
   "execution_count": null,
   "metadata": {
    "id": "tJe1ZZQ1uS-0"
   },
   "outputs": [],
   "source": [
    "from sklearn...\n",
    "\n",
    "model = ...  # Seleccionar un clasificador\n",
    "\n",
    "model_full = deepcopy(model)  # Copia para entrenar con todas las features\n",
    "model_pca = deepcopy(model)  # Copia para entrenar con las features de PCA\n",
    "model_lda = deepcopy(model)  # Copia para entrenar con las features de LDA"
   ]
  },
  {
   "cell_type": "markdown",
   "metadata": {
    "id": "Fmol1ko-uS-0",
    "tags": []
   },
   "source": [
    "# Entrenamiento del modelo con todas las features"
   ]
  },
  {
   "cell_type": "code",
   "execution_count": null,
   "metadata": {
    "id": "ba63-idOuS-0"
   },
   "outputs": [],
   "source": [
    "model_full.fit(X_trn, y_trn)"
   ]
  },
  {
   "cell_type": "code",
   "execution_count": null,
   "metadata": {
    "id": "iozxQa_8uS-1"
   },
   "outputs": [],
   "source": [
    "# PREDICCION DEL MODELO\n",
    "y_pred = model_full.predict(X_trn)"
   ]
  },
  {
   "cell_type": "code",
   "execution_count": null,
   "metadata": {
    "id": "uVJr9PYzuS-1"
   },
   "outputs": [],
   "source": [
    "# CALCULO DE METRICAS\n",
    "precision, recall, f1,_ = precision_recall_fscore_support(y_trn, y_pred, average='macro')\n",
    "accuracy = accuracy_score(y_trn, y_pred)\n",
    "\n",
    "# SALVO METRICAS\n",
    "METRICAS['modelo']['trn']['Pr'] = precision\n",
    "METRICAS['modelo']['trn']['Rc'] = recall\n",
    "METRICAS['modelo']['trn']['Acc'] = accuracy\n",
    "METRICAS['modelo']['trn']['F1'] = f1"
   ]
  },
  {
   "cell_type": "markdown",
   "metadata": {
    "id": "m-kZeVoQuS-1"
   },
   "source": [
    "**VALIDATION**"
   ]
  },
  {
   "cell_type": "code",
   "execution_count": null,
   "metadata": {
    "id": "HS0yeAQmuS-2"
   },
   "outputs": [],
   "source": [
    "y_pred = model_full.predict(X_val)"
   ]
  },
  {
   "cell_type": "code",
   "execution_count": null,
   "metadata": {
    "id": "QYH0GlREuS-2"
   },
   "outputs": [],
   "source": [
    "precision, recall, f1,_ = precision_recall_fscore_support(y_val, y_pred, average='macro')\n",
    "accuracy = accuracy_score(y_val, y_pred)\n",
    "\n",
    "# SALVO METRICAS\n",
    "METRICAS['modelo']['val']['Pr'] = precision\n",
    "METRICAS['modelo']['val']['Rc'] = recall\n",
    "METRICAS['modelo']['val']['Acc'] = accuracy\n",
    "METRICAS['modelo']['val']['F1'] = f1"
   ]
  },
  {
   "cell_type": "markdown",
   "metadata": {
    "id": "2GWNGDZ8uS-2",
    "tags": []
   },
   "source": [
    "# Entrenamiento del modelo con features proyectadas"
   ]
  },
  {
   "cell_type": "markdown",
   "metadata": {
    "id": "uiASK3gguS-2"
   },
   "source": [
    "### PCA"
   ]
  },
  {
   "cell_type": "code",
   "execution_count": null,
   "metadata": {
    "id": "Wa36xBoUuS-2"
   },
   "outputs": [],
   "source": [
    "model_pca.fit(X_trn, y_trn)"
   ]
  },
  {
   "cell_type": "code",
   "execution_count": null,
   "metadata": {
    "id": "hgCwsoQ7uS-3"
   },
   "outputs": [],
   "source": [
    "# PREDICCION DEL MODELO\n",
    "y_pred = model_pca.predict(X_trn)"
   ]
  },
  {
   "cell_type": "code",
   "execution_count": null,
   "metadata": {
    "id": "6-A_OxIkuS-3"
   },
   "outputs": [],
   "source": [
    "# CALCULO DE METRICAS\n",
    "precision, recall, f1,_ = precision_recall_fscore_support(y_trn, y_pred, average='macro')\n",
    "accuracy = accuracy_score(y_trn, y_pred)\n",
    "\n",
    "# SALVO METRICAS\n",
    "METRICAS['modelo+pca']['trn']['Pr'] = precision\n",
    "METRICAS['modelo+pca']['trn']['Rc'] = recall\n",
    "METRICAS['modelo+pca']['trn']['Acc'] = accuracy\n",
    "METRICAS['modelo+pca']['trn']['F1'] = f1"
   ]
  },
  {
   "cell_type": "markdown",
   "metadata": {
    "id": "KOLztwqfuS-3"
   },
   "source": [
    "**VALIDATION**"
   ]
  },
  {
   "cell_type": "code",
   "execution_count": null,
   "metadata": {
    "id": "ECVwYdyYuS-3"
   },
   "outputs": [],
   "source": [
    "y_pred = model_pca.predict(X_val)"
   ]
  },
  {
   "cell_type": "code",
   "execution_count": null,
   "metadata": {
    "id": "ug5XGLCnuS-3"
   },
   "outputs": [],
   "source": [
    "precision, recall, f1,_ = precision_recall_fscore_support(y_val, y_pred, average='macro')\n",
    "accuracy = accuracy_score(y_val, y_pred)"
   ]
  },
  {
   "cell_type": "code",
   "execution_count": null,
   "metadata": {
    "id": "I-Rxu8ltuS-4"
   },
   "outputs": [],
   "source": [
    "print(f'Pr: {precision:.4} -- Rc: {recall:.4} -- Acc: {accuracy:.4} -- F1: {f1:.4}')"
   ]
  },
  {
   "cell_type": "code",
   "execution_count": null,
   "metadata": {
    "id": "IA01IrNLuS-4"
   },
   "outputs": [],
   "source": [
    "# SALVO METRICAS\n",
    "\n",
    "METRICAS['modelo+pca']['val']['Pr'] = precision\n",
    "METRICAS['modelo+pca']['val']['Rc'] = recall\n",
    "METRICAS['modelo+pca']['val']['Acc'] = accuracy\n",
    "METRICAS['modelo+pca']['val']['F1'] = f1"
   ]
  },
  {
   "cell_type": "code",
   "execution_count": null,
   "metadata": {
    "id": "NhdlhcphuS-4"
   },
   "outputs": [],
   "source": [
    "# REPORTE EN PANTALLA\n",
    "for k,v in METRICAS['modelo+pca']['val'].items():\n",
    "    print(f'{k}: {v:.4}')"
   ]
  },
  {
   "cell_type": "markdown",
   "metadata": {
    "id": "xr2I8btzuS-4"
   },
   "source": [
    "### LDA"
   ]
  },
  {
   "cell_type": "code",
   "execution_count": null,
   "metadata": {
    "id": "9OEHfGh2uS-4"
   },
   "outputs": [],
   "source": [
    "model_lda.fit(X_trn, y_trn)"
   ]
  },
  {
   "cell_type": "code",
   "execution_count": null,
   "metadata": {
    "id": "6vl-1LuquS-4"
   },
   "outputs": [],
   "source": [
    "# PREDICCION DEL MODELO\n",
    "y_pred = model_lda.predict(X_trn)"
   ]
  },
  {
   "cell_type": "code",
   "execution_count": null,
   "metadata": {
    "id": "OEwtGG-iuS-5"
   },
   "outputs": [],
   "source": [
    "# CALCULO DE METRICAS\n",
    "precision, recall, f1,_ = precision_recall_fscore_support(y_trn, y_pred, average='macro')\n",
    "accuracy = accuracy_score(y_trn, y_pred)\n",
    "\n",
    "# SALVO METRICAS\n",
    "METRICAS['modelo+lda']['trn']['Pr'] = precision\n",
    "METRICAS['modelo+lda']['trn']['Rc'] = recall\n",
    "METRICAS['modelo+lda']['trn']['Acc'] = accuracy\n",
    "METRICAS['modelo+lda']['trn']['F1'] = f1"
   ]
  },
  {
   "cell_type": "markdown",
   "metadata": {
    "id": "8E7JO-2JuS-5"
   },
   "source": [
    "**VALIDATION**"
   ]
  },
  {
   "cell_type": "code",
   "execution_count": null,
   "metadata": {
    "id": "OPtPV3_tuS-5"
   },
   "outputs": [],
   "source": [
    "y_pred = model_lda.predict(X_val)"
   ]
  },
  {
   "cell_type": "code",
   "execution_count": null,
   "metadata": {
    "id": "kI8_zYLyuS-5"
   },
   "outputs": [],
   "source": [
    "precision, recall, f1,_ = precision_recall_fscore_support(y_val, y_pred, average='macro')\n",
    "accuracy = accuracy_score(y_val, y_pred)\n",
    "\n",
    "# SALVO METRICAS\n",
    "METRICAS['modelo+lda']['val']['Pr'] = precision\n",
    "METRICAS['modelo+lda']['val']['Rc'] = recall\n",
    "METRICAS['modelo+lda']['val']['Acc'] = accuracy\n",
    "METRICAS['modelo+lda']['val']['F1'] = f1"
   ]
  },
  {
   "cell_type": "markdown",
   "metadata": {
    "id": "sO_ti7inuS-5"
   },
   "source": [
    "---\n",
    "\n",
    "## Resultados comparativos"
   ]
  },
  {
   "cell_type": "code",
   "execution_count": null,
   "metadata": {
    "id": "hJLdP6cJuS-5"
   },
   "outputs": [],
   "source": [
    "print('\\n------------------------------------------')\n",
    "print(':::                TRAIN               :::')\n",
    "print('------------------------------------------')\n",
    "print('Features    Precision  Recall   Acc     F1')\n",
    "\n",
    "m1 = METRICAS['modelo']['trn']\n",
    "print(f\"Full        {m1['Pr']:.4}     {m1['Rc']:.4}   {m1['Acc']:.4}  {m1['F1']:.4}\")\n",
    "m2 = METRICAS['modelo+pca']['trn']\n",
    "print(f\"PCA         {m2['Pr']:.4}     {m2['Rc']:.4}   {m2['Acc']:.4}  {m2['F1']:.4}\")\n",
    "m3 = METRICAS['modelo+lda']['trn']\n",
    "print(f\"LDA         {m3['Pr']:.4}     {m3['Rc']:.4}   {m3['Acc']:.4}  {m3['F1']:.4}\")\n",
    "\n",
    "#----------------------\n",
    "\n",
    "print('\\n-----------------------------------------------')\n",
    "print(':::               VALIDATION                :::')\n",
    "print('-----------------------------------------------')\n",
    "print('Features    Precision  Recall   Acc     F1')\n",
    "\n",
    "measures = METRICAS['modelo']['val']\n",
    "print(f\"Full        {measures['Pr']:.4}     {measures['Rc']:.4}   {measures['Acc']:.4}  {measures['F1']:.4}\")\n",
    "measures = METRICAS['modelo+pca']['val']\n",
    "print(f\"PCA         {measures['Pr']:.4}     {measures['Rc']:.4}   {measures['Acc']:.4}  {measures['F1']:.4}\")\n",
    "measures = METRICAS['modelo+lda']['val']\n",
    "print(f\"LDA         {measures['Pr']:.4}     {measures['Rc']:.4}   {measures['Acc']:.4}  {measures['F1']:.4}\")"
   ]
  },
  {
   "cell_type": "markdown",
   "metadata": {
    "id": "g0IruM7SuS-6"
   },
   "source": [
    "---\n",
    "\n",
    "\n",
    "# TESTEANDO LOS MODELOS"
   ]
  },
  {
   "cell_type": "code",
   "execution_count": null,
   "metadata": {
    "id": "PPXqoK9EuS-6"
   },
   "outputs": [],
   "source": [
    "# MODELO CON TODAS LAS FEATURES\n",
    "y_pred = model_full.predict(X_tst)"
   ]
  },
  {
   "cell_type": "code",
   "execution_count": null,
   "metadata": {
    "id": "VfCh2Kj-uS-6"
   },
   "outputs": [],
   "source": [
    "precision, recall, f1,_ = precision_recall_fscore_support(y_tst, y_pred, average='macro')\n",
    "accuracy = accuracy_score(y_tst, y_pred)\n",
    "\n",
    "# SALVO METRICAS\n",
    "METRICAS['modelo']['tst']['Pr'] = precision\n",
    "METRICAS['modelo']['tst']['Rc'] = recall\n",
    "METRICAS['modelo']['tst']['Acc'] = accuracy\n",
    "METRICAS['modelo']['tst']['F1'] = f1"
   ]
  },
  {
   "cell_type": "markdown",
   "metadata": {
    "id": "BjM5-5NjuS-6"
   },
   "source": [
    "---\n",
    "**MODELO CON FEATURES PCA**"
   ]
  },
  {
   "cell_type": "code",
   "execution_count": null,
   "metadata": {
    "id": "kJMOSwbvuS-6",
    "tags": []
   },
   "outputs": [],
   "source": [
    "# MODELO CON TODAS LAS FEATURES\n",
    "y_pred = model_pca.predict(X_tst)"
   ]
  },
  {
   "cell_type": "code",
   "execution_count": null,
   "metadata": {
    "id": "_1-GZANJuS-6",
    "tags": []
   },
   "outputs": [],
   "source": [
    "precision, recall, f1,_ = precision_recall_fscore_support(y_tst, y_pred, average='macro')\n",
    "accuracy = accuracy_score(y_tst, y_pred)\n",
    "\n",
    "# SALVO METRICAS\n",
    "METRICAS['modelo+pca']['tst']['Pr'] = precision\n",
    "METRICAS['modelo+pca']['tst']['Rc'] = recall\n",
    "METRICAS['modelo+pca']['tst']['Acc'] = accuracy\n",
    "METRICAS['modelo+pca']['tst']['F1'] = f1"
   ]
  },
  {
   "cell_type": "markdown",
   "metadata": {
    "id": "OSh8TyWGuS-6"
   },
   "source": [
    "---\n",
    "\n",
    "**MODELO CON FEATURES LDA**"
   ]
  },
  {
   "cell_type": "code",
   "execution_count": null,
   "metadata": {
    "id": "sgOa9gpRuS-7",
    "tags": []
   },
   "outputs": [],
   "source": [
    "y_pred = model_lda.predict(X_tst)"
   ]
  },
  {
   "cell_type": "code",
   "execution_count": null,
   "metadata": {
    "id": "ppMNm3AnuS-7",
    "tags": []
   },
   "outputs": [],
   "source": [
    "precision, recall, f1,_ = precision_recall_fscore_support(y_tst, y_pred, average='macro')\n",
    "accuracy = accuracy_score(y_tst, y_pred)\n",
    "\n",
    "# SALVO METRICAS\n",
    "METRICAS['modelo+lda']['tst']['Pr'] = precision\n",
    "METRICAS['modelo+lda']['tst']['Rc'] = recall\n",
    "METRICAS['modelo+lda']['tst']['Acc'] = accuracy\n",
    "METRICAS['modelo+lda']['tst']['F1'] = f1"
   ]
  },
  {
   "cell_type": "markdown",
   "metadata": {
    "id": "l_eUE_7kuS-7"
   },
   "source": [
    "---\n",
    "\n",
    "## Resultados comparativos"
   ]
  },
  {
   "cell_type": "code",
   "execution_count": null,
   "metadata": {
    "id": "tPppAxWuuS-7",
    "jupyter": {
     "source_hidden": true
    },
    "tags": []
   },
   "outputs": [],
   "source": [
    "print('\\n----------------------------------------------')\n",
    "print(':::                  TEST                  :::')\n",
    "print('----------------------------------------------')\n",
    "print('Features    Precision  Recall   Acc     F1')\n",
    "\n",
    "measures = METRICAS['modelo']['tst']\n",
    "print(f\"Full        {measures['Pr']:.4}     {measures['Rc']:.4}   {measures['Acc']:.4}  {measures['F1']:.4}\")\n",
    "measures = METRICAS['modelo+pca']['tst']\n",
    "print(f\"PCA         {measures['Pr']:.4}     {measures['Rc']:.4}   {measures['Acc']:.4}  {measures['F1']:.4}\")\n",
    "measures = METRICAS['modelo+lda']['tst']\n",
    "print(f\"LDA         {measures['Pr']:.4}     {measures['Rc']:.4}   {measures['Acc']:.4}  {measures['F1']:.4}\")"
   ]
  },
  {
   "cell_type": "markdown",
   "metadata": {
    "id": "dYb8JtFiBPCz"
   },
   "source": [
    "## Guardando las predicciones en un archivo \"csv\""
   ]
  },
  {
   "cell_type": "code",
   "execution_count": null,
   "metadata": {
    "id": "ek8o44O6uS-8",
    "tags": []
   },
   "outputs": [],
   "source": [
    "import json\n",
    "\n",
    "with open('summary.json', 'w') as fp:\n",
    "    json.dump(METRICAS, fp, indent=4)"
   ]
  }
 ],
 "metadata": {
  "colab": {
   "collapsed_sections": [],
   "name": "TP3.ipynb",
   "provenance": []
  },
  "kernelspec": {
   "display_name": "Python 3",
   "language": "python",
   "name": "python3"
  },
  "language_info": {
   "codemirror_mode": {
    "name": "ipython",
    "version": 3
   },
   "file_extension": ".py",
   "mimetype": "text/x-python",
   "name": "python",
   "nbconvert_exporter": "python",
   "pygments_lexer": "ipython3",
   "version": "3.7.10"
  }
 },
 "nbformat": 4,
 "nbformat_minor": 1
}
