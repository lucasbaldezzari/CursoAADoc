{
 "cells": [
  {
   "cell_type": "markdown",
   "metadata": {
    "id": "ca5xL-8ktHSd"
   },
   "source": [
    "# Aprendizaje automático y aplicaciones\n",
    "\n",
    "## Guía de trabajos prácticos del Encuentro 6\n",
    "\n",
    "---\n",
    "$A^3$ @ FI-UNER : 2021"
   ]
  },
  {
   "cell_type": "markdown",
   "metadata": {
    "id": "XIs6euyItduN"
   },
   "source": [
    "Seleccione uno de los modelos presentados en clase para resolver el problema de clasificación\n",
    "de eventos masticatorios, realice modificaciones y obtenga los resultados para la partición de\n",
    "test. También puede proponer un nuevo modelo neuronal si lo prefiere.\n",
    "\n",
    "Luego de resolver el ejercicio, deberá presentar:\n",
    "\n",
    "* Documento justificando las modificaciones realizadas sobre el modeloseleccionado. En caso de proponer un nuevo modelo, deberá explicar la intuición detrás de la propuesta. \n",
    "\n",
    "*   Notebook con el código del modelo modificado/propuesto. Se espera que sea posible\n",
    "reproducir los pasos seguidos.\n",
    "*   Modelo entrenado (formato \".pt\") junto al archivo de predicciones obtenido con el\n",
    "modelo.\n",
    "\n",
    "\n",
    "\n",
    "\n",
    "\n"
   ]
  },
  {
   "cell_type": "markdown",
   "metadata": {
    "id": "odATac1FuD6v"
   },
   "source": [
    "Seleccionamos el modelo del Perceptrón Multicapa para encarar el problema."
   ]
  },
  {
   "cell_type": "markdown",
   "metadata": {
    "id": "DtssLBj6uSAu"
   },
   "source": [
    "Descargamos los datos del problema:"
   ]
  },
  {
   "cell_type": "markdown",
   "metadata": {
    "id": "12bQDZk4ucuL"
   },
   "source": [
    "Importamos las librerías que vamos a utilizar"
   ]
  },
  {
   "cell_type": "code",
   "execution_count": 1,
   "metadata": {
    "id": "oEIcvFoltClK"
   },
   "outputs": [],
   "source": [
    "import os\n",
    "import zipfile\n",
    "\n",
    "import numpy as np\n",
    "import matplotlib.pyplot as plt\n",
    "import pandas as pd\n",
    "\n",
    "import scipy\n",
    "from scipy.io import wavfile\n",
    "from scipy import signal\n",
    "\n",
    "import torch\n",
    "from torch import nn\n",
    "from torch import optim\n",
    "from torch.utils.data import Dataset, DataLoader\n",
    "from torch.utils.tensorboard import SummaryWriter  # Registro de medidas\n",
    "\n",
    "from sklearn.model_selection import train_test_split\n",
    "\n",
    "device = torch.device(\"cuda:0\" if torch.cuda.is_available() else \"cpu\")  # Utilizará GPU si está disponible"
   ]
  },
  {
   "cell_type": "code",
   "execution_count": 2,
   "metadata": {
    "id": "IUiP5YsquUJ8"
   },
   "outputs": [],
   "source": [
    "main_folder = \"ProblemaIALitoral\"\n",
    "if os.path.split(os.getcwd())[1] != main_folder:\n",
    "    if not os.path.exists(main_folder):\n",
    "        os.makedirs(main_folder)\n",
    "    os.chdir(main_folder)"
   ]
  },
  {
   "cell_type": "code",
   "execution_count": 3,
   "metadata": {
    "id": "kUEgB6VEuV3s"
   },
   "outputs": [],
   "source": [
    "!wget --quiet --no-clobber https://www.dropbox.com/s/d12x5vknrk9yek1/data.zip\n",
    "!wget --quiet --no-clobber https://www.dropbox.com/s/qoyduoa5prupyzr/test_files.csv\n",
    "!wget --quiet --no-clobber https://www.dropbox.com/s/z1cwznln0gfpw32/train_labels.csv"
   ]
  },
  {
   "cell_type": "code",
   "execution_count": 4,
   "metadata": {
    "id": "B9uW4MroujiE"
   },
   "outputs": [],
   "source": [
    "if not os.path.exists(\"./data\") and os.path.isfile(\"data.zip\"):\n",
    "    with zipfile.ZipFile('data.zip', 'r') as zip_ref:\n",
    "        zip_ref.extractall('.')"
   ]
  },
  {
   "cell_type": "code",
   "execution_count": 5,
   "metadata": {
    "colab": {
     "base_uri": "https://localhost:8080/"
    },
    "id": "M9g8y7b5ugM0",
    "outputId": "efba4d6a-4192-4f34-cf93-dcdf543631b6"
   },
   "outputs": [
    {
     "name": "stdout",
     "output_type": "stream",
     "text": [
      "total 82484\n",
      "drwxr-xr-x 2 root root    69632 Oct 19 14:13 data\n",
      "-rw-r--r-- 1 root root 84347854 Oct 19 14:13 data.zip\n",
      "-rw-r--r-- 1 root root     7764 Oct 19 14:13 test_files.csv\n",
      "-rw-r--r-- 1 root root    30554 Oct 19 14:13 train_labels.csv\n"
     ]
    }
   ],
   "source": [
    "!ls -l"
   ]
  },
  {
   "cell_type": "code",
   "execution_count": 6,
   "metadata": {
    "colab": {
     "base_uri": "https://localhost:8080/",
     "height": 424
    },
    "id": "aeXtjiiNusBL",
    "outputId": "1bc1f04c-e240-446e-a536-bbfe31f10e51"
   },
   "outputs": [
    {
     "data": {
      "text/html": [
       "<div>\n",
       "<style scoped>\n",
       "    .dataframe tbody tr th:only-of-type {\n",
       "        vertical-align: middle;\n",
       "    }\n",
       "\n",
       "    .dataframe tbody tr th {\n",
       "        vertical-align: top;\n",
       "    }\n",
       "\n",
       "    .dataframe thead th {\n",
       "        text-align: right;\n",
       "    }\n",
       "</style>\n",
       "<table border=\"1\" class=\"dataframe\">\n",
       "  <thead>\n",
       "    <tr style=\"text-align: right;\">\n",
       "      <th></th>\n",
       "      <th>filename</th>\n",
       "      <th>pasture</th>\n",
       "      <th>height</th>\n",
       "      <th>label</th>\n",
       "    </tr>\n",
       "  </thead>\n",
       "  <tbody>\n",
       "    <tr>\n",
       "      <th>0</th>\n",
       "      <td>4</td>\n",
       "      <td>alfalfa</td>\n",
       "      <td>tall</td>\n",
       "      <td>2</td>\n",
       "    </tr>\n",
       "    <tr>\n",
       "      <th>1</th>\n",
       "      <td>9</td>\n",
       "      <td>alfalfa</td>\n",
       "      <td>tall</td>\n",
       "      <td>2</td>\n",
       "    </tr>\n",
       "    <tr>\n",
       "      <th>2</th>\n",
       "      <td>10</td>\n",
       "      <td>alfalfa</td>\n",
       "      <td>tall</td>\n",
       "      <td>1</td>\n",
       "    </tr>\n",
       "    <tr>\n",
       "      <th>3</th>\n",
       "      <td>11</td>\n",
       "      <td>alfalfa</td>\n",
       "      <td>tall</td>\n",
       "      <td>2</td>\n",
       "    </tr>\n",
       "    <tr>\n",
       "      <th>4</th>\n",
       "      <td>13</td>\n",
       "      <td>alfalfa</td>\n",
       "      <td>tall</td>\n",
       "      <td>2</td>\n",
       "    </tr>\n",
       "    <tr>\n",
       "      <th>...</th>\n",
       "      <td>...</td>\n",
       "      <td>...</td>\n",
       "      <td>...</td>\n",
       "      <td>...</td>\n",
       "    </tr>\n",
       "    <tr>\n",
       "      <th>1527</th>\n",
       "      <td>3073</td>\n",
       "      <td>fescue</td>\n",
       "      <td>tall</td>\n",
       "      <td>1</td>\n",
       "    </tr>\n",
       "    <tr>\n",
       "      <th>1528</th>\n",
       "      <td>3075</td>\n",
       "      <td>fescue</td>\n",
       "      <td>tall</td>\n",
       "      <td>1</td>\n",
       "    </tr>\n",
       "    <tr>\n",
       "      <th>1529</th>\n",
       "      <td>3077</td>\n",
       "      <td>fescue</td>\n",
       "      <td>tall</td>\n",
       "      <td>1</td>\n",
       "    </tr>\n",
       "    <tr>\n",
       "      <th>1530</th>\n",
       "      <td>3079</td>\n",
       "      <td>fescue</td>\n",
       "      <td>tall</td>\n",
       "      <td>1</td>\n",
       "    </tr>\n",
       "    <tr>\n",
       "      <th>1531</th>\n",
       "      <td>3083</td>\n",
       "      <td>fescue</td>\n",
       "      <td>tall</td>\n",
       "      <td>0</td>\n",
       "    </tr>\n",
       "  </tbody>\n",
       "</table>\n",
       "<p>1532 rows × 4 columns</p>\n",
       "</div>"
      ],
      "text/plain": [
       "      filename  pasture height  label\n",
       "0            4  alfalfa   tall      2\n",
       "1            9  alfalfa   tall      2\n",
       "2           10  alfalfa   tall      1\n",
       "3           11  alfalfa   tall      2\n",
       "4           13  alfalfa   tall      2\n",
       "...        ...      ...    ...    ...\n",
       "1527      3073   fescue   tall      1\n",
       "1528      3075   fescue   tall      1\n",
       "1529      3077   fescue   tall      1\n",
       "1530      3079   fescue   tall      1\n",
       "1531      3083   fescue   tall      0\n",
       "\n",
       "[1532 rows x 4 columns]"
      ]
     },
     "execution_count": 6,
     "metadata": {},
     "output_type": "execute_result"
    }
   ],
   "source": [
    "df = pd.read_csv('train_labels.csv')\n",
    "df"
   ]
  },
  {
   "cell_type": "markdown",
   "metadata": {
    "id": "rK8N3F3nu3DD"
   },
   "source": [
    "Vemos la distribución de las etiquetas"
   ]
  },
  {
   "cell_type": "code",
   "execution_count": 7,
   "metadata": {
    "colab": {
     "base_uri": "https://localhost:8080/",
     "height": 350
    },
    "id": "pYLBiQpeuwZ8",
    "outputId": "f77bf9d5-fdaa-420a-edb3-ca774b530c02"
   },
   "outputs": [
    {
     "data": {
      "image/png": "[encoded data removed]",
      "text/plain": [
       "<Figure size 360x360 with 1 Axes>"
      ]
     },
     "metadata": {
      "needs_background": "light"
     },
     "output_type": "display_data"
    }
   ],
   "source": [
    "fig, ax = plt.subplots(1, 1, figsize=(5,5))\n",
    "\n",
    "ax.hist(df.label, bins=[-.5, .5, 1.5, 2.5], rwidth=0.8)\n",
    "ax.set_ylabel(\"Cantidad de patrones\")\n",
    "ax.set_xlabel(\"Código clase\")\n",
    "ax.set_title('Full data');"
   ]
  },
  {
   "cell_type": "code",
   "execution_count": 8,
   "metadata": {
    "id": "vbl3DPJAu-2U"
   },
   "outputs": [],
   "source": [
    "# Particiono os datos en train y validation\n",
    "X_train, X_val = train_test_split(df,\n",
    "                                  train_size=0.8,\n",
    "                                  shuffle=True,\n",
    "                                  random_state=42,\n",
    "                                  stratify=df.label)\n",
    "\n",
    "# Guardo las particiones en archivos\n",
    "X_train.to_csv('train_files.csv')\n",
    "X_val.to_csv('validation_files.csv')"
   ]
  },
  {
   "cell_type": "code",
   "execution_count": 9,
   "metadata": {
    "colab": {
     "base_uri": "https://localhost:8080/",
     "height": 459
    },
    "id": "BPUvsgmy56Ef",
    "outputId": "964ad3aa-fdce-47f2-8dce-f470fe52c220"
   },
   "outputs": [
    {
     "data": {
      "image/png": "[encoded data removed]",
      "text/plain": [
       "<Figure size 1008x504 with 2 Axes>"
      ]
     },
     "metadata": {
      "needs_background": "light"
     },
     "output_type": "display_data"
    }
   ],
   "source": [
    "particiones = ['train', 'validation']\n",
    "\n",
    "fig, ax = plt.subplots(1, len(particiones), figsize=(7*len(particiones),7))\n",
    "\n",
    "for idx, particion in enumerate(particiones):\n",
    "    \n",
    "    df = pd.read_csv(f'{particion}_files.csv')\n",
    "    \n",
    "    ax[idx].hist(df.label, bins=[-.5, .5, 1.5, 2.5], rwidth=0.8)\n",
    "    ax[idx].set_ylabel(\"Cantidad de patrones\")\n",
    "    ax[idx].set_xlabel(\"Código clase\")\n",
    "    ax[idx].set_title(f'{particion.capitalize()} data')"
   ]
  },
  {
   "cell_type": "code",
   "execution_count": 11,
   "metadata": {
    "id": "yCsoy35N6RDB"
   },
   "outputs": [],
   "source": [
    "#Esta función es la vista en clases, realiza la extracción de características de una señal sonora.\n",
    "def get_features(raw_signal, fs, threshold=0.0230, cutoff_freq=5):\n",
    "    '''\n",
    "    Devuelve las features de interés para la señal\n",
    "    \n",
    "    INPUTS:\n",
    "    -------\n",
    "    - raw_signal: [numpy.ndarray] Señal a procesar.\n",
    "    - fs: [float] Frecuencia de muestreo.\n",
    "    - threshold: [float] umbral para duracion y signo de la pendiente de la envolvente.\n",
    "    - cutoff_freq: [float] Frecuencia de corte del filtro pasabajo usado para calcular la envolvente.\n",
    "    '''\n",
    "\n",
    "    # Rectification\n",
    "    rectified_signal = np.abs(raw_signal)\n",
    "\n",
    "    # Low-pass filtering -> envelope\n",
    "    sos_butter = scipy.signal.butter(2, cutoff_freq, 'lowpass', output=\"sos\", fs=fs)\n",
    "    envelope = scipy.signal.sosfiltfilt(sos_butter, rectified_signal, axis=0)\n",
    "\n",
    "    above_thres = envelope >= threshold  # arreglo booleano para restringir zona de calculo\n",
    "\n",
    "    # variables y señales auxiliares\n",
    "    max_pos = np.argmax(envelope)  # posicion del maximo en la ventana\n",
    "    # al multiplicar por above_thres hace cero por debajo del umbral (enmascara)\n",
    "    envelope_slope_sign = np.sign(np.diff(envelope, append=0)) * above_thres\n",
    "    duration_signal = np.ones(envelope.shape) * above_thres  \n",
    "\n",
    "    # Caracteristicas\n",
    "    duration = np.sum(duration_signal) / fs\n",
    "    zero_crossing = np.count_nonzero(np.abs(np.diff(envelope_slope_sign)))\n",
    "    amplitude = np.max(rectified_signal)\n",
    "    ratio = np.trapz(envelope[:max_pos], axis=0) / np.trapz(envelope, axis=0)\n",
    "    std = np.std(raw_signal)\n",
    "\n",
    "    data = [duration, zero_crossing, amplitude, ratio, std]\n",
    "    \n",
    "    return data"
   ]
  },
  {
   "cell_type": "code",
   "execution_count": 13,
   "metadata": {
    "id": "J7wnrZ5r7HaM"
   },
   "outputs": [],
   "source": [
    "#Esto también sale de los visto en clases, es la definición de la clase WaveDataset, funciones y propiedades.\n",
    "class WaveDataset(Dataset):\n",
    "    \n",
    "    #=====================================================\n",
    "    def __init__(self, root_path, annotation_file, transform=None, target_transform=None):\n",
    "        \"\"\"Construye un dataset desde carpeta de wav y csv de labels.\"\"\"\n",
    "        \n",
    "        self.root_path = root_path\n",
    "        \n",
    "        # Crea una lista de nombres y etiquetas a partir del csv\n",
    "        ds = pd.read_csv(annotation_file)\n",
    "        self.filenames = list(ds['filename'])\n",
    "        \n",
    "        if 'label' in ds.columns:\n",
    "            # Si existe una columna de labels la toma del csv\n",
    "            self.labels = ds['label'].values\n",
    "        else:\n",
    "            # Caso contrario, los labels son todos -1\n",
    "            self.labels = -np.ones(len(self.filenames))\n",
    "        \n",
    "        self.cache = dict()\n",
    "        \n",
    "        self.transform = transform\n",
    "        self.target_transform = target_transform\n",
    "    \n",
    "    #=====================================================\n",
    "    def __len__(self):\n",
    "        \"\"\"Cantidad de patrones en el dataset.\"\"\"\n",
    "        \n",
    "        return len(self.labels)\n",
    "    \n",
    "    \n",
    "    #=====================================================\n",
    "    def __getitem__(self, idx):\n",
    "        \"\"\"Retorna la tupla (data, fs, label) en la posicion index.\"\"\"\n",
    "        \n",
    "        if idx in self.cache:\n",
    "            data, label = self.cache[idx]\n",
    "        else:\n",
    "            # Lee el archivo wav y guarda (muestras, label) en cache\n",
    "            fname = f\"{self.filenames[idx] :04d}.wav\"\n",
    "            \n",
    "            fpath = os.path.join(self.root_path, fname)\n",
    "            \n",
    "            fs, raw_signal = wavfile.read(fpath) # lectura de wavs con scipy\n",
    "            raw_signal = raw_signal / np.iinfo(raw_signal.dtype).max  # Reescala entre -1 y 1\n",
    "            \n",
    "            #-----------------------------------------\n",
    "            # EXTRAER FEATURES\n",
    "            #-------------------\n",
    "            \n",
    "            data = get_features(raw_signal, fs, threshold=0.0230, cutoff_freq=5)\n",
    "            \n",
    "            #-----------------------------------------\n",
    "            \n",
    "            label = self.labels[idx]\n",
    "            \n",
    "            self.cache[idx] = (data, label)\n",
    "        \n",
    "        #--------------------------------------\n",
    "        if self.transform:\n",
    "            pass\n",
    "        if self.target_transform:\n",
    "            pass\n",
    "        #--------------------------------------\n",
    "        \n",
    "        return torch.tensor(data).type(torch.FloatTensor), torch.tensor(label).type(torch.LongTensor)\n",
    "    \n",
    "    \n",
    "    @property\n",
    "    #=====================================================\n",
    "    def get_n_classes(self):\n",
    "        \"\"\"Devuelve el número de clases en el dataset\"\"\"\n",
    "        return len(set(self.labels))\n",
    "    \n",
    "    @property\n",
    "    #=====================================================\n",
    "    def get_weigh_by_class(self):\n",
    "        \"\"\"Devuelve la proporcion de ejemplos por clase\"\"\"\n",
    "        _classes = list(set(self.labels))\n",
    "        _classes.sort()\n",
    "        \n",
    "        N = torch.tensor([(self.labels==c).sum() for c in _classes])\n",
    "        \n",
    "        weights = 1/N\n",
    "        \n",
    "        return weights/weights.norm()"
   ]
  },
  {
   "cell_type": "code",
   "execution_count": 14,
   "metadata": {
    "id": "cZ0jLs6e7aRk"
   },
   "outputs": [],
   "source": [
    "# CARGO DATASETS\n",
    "train_data = WaveDataset(root_path='data', annotation_file='train_files.csv')\n",
    "val_data = WaveDataset(root_path='data', annotation_file='validation_files.csv')\n",
    "test_data = WaveDataset(root_path='data', annotation_file='test_files.csv')"
   ]
  },
  {
   "cell_type": "code",
   "execution_count": 15,
   "metadata": {
    "id": "O2sRAS5D7siU"
   },
   "outputs": [],
   "source": [
    "# CONSTRUCCIÓN DEL DATALOADER\n",
    "train_dataloader = DataLoader(train_data, batch_size=16, shuffle=True)\n",
    "val_dataloader = DataLoader(val_data, batch_size=16, shuffle=True)\n",
    "test_dataloader = DataLoader(test_data, batch_size=16, shuffle=False)"
   ]
  },
  {
   "cell_type": "code",
   "execution_count": 17,
   "metadata": {
    "id": "oOl_K7am72NM"
   },
   "outputs": [],
   "source": [
    "# CONSTRUCCIÓN DEL MODELO NEURONAL\n",
    "class MLP(nn.Module):\n",
    "    '''\n",
    "    MLP con 2 capas: Entrada, salida.\n",
    "    Este modelo es equivalente al anterior. La diferencia está en que genera\n",
    "    un \"bloque\" de procesamiento que puede ejecutarse como un único elemento.\n",
    "    \n",
    "    '''\n",
    "    \n",
    "    #===========================\n",
    "    def __init__(self, n_inputs=2, layers=[3], n_outputs=1):\n",
    "        \n",
    "        super(MLP, self).__init__()\n",
    "        \n",
    "        self.net = nn.ModuleList([nn.Linear(n_inputs, layers[0], bias=True)])\n",
    "        self.net.append(nn.Sigmoid())\n",
    "        \n",
    "        # Solo se ejecuta si len(layers) > 1\n",
    "        for i in range(len(layers)-1):\n",
    "            self.net.append(nn.Linear(layers[i], layers[i+1], bias=True))\n",
    "            self.net.append(nn.Sigmoid())\n",
    "        \n",
    "        self.net.append(nn.Linear(layers[-1], n_outputs, bias=True))\n",
    "    \n",
    "    \n",
    "    #===========================\n",
    "    def forward(self, x):\n",
    "        \n",
    "        y = x\n",
    "        \n",
    "        for i, layer in enumerate(self.net):\n",
    "            y = self.net[i](y)\n",
    "        \n",
    "        return y  # salida de la red"
   ]
  },
  {
   "cell_type": "code",
   "execution_count": 18,
   "metadata": {
    "id": "6NyWU59N8eNF"
   },
   "outputs": [],
   "source": [
    "def train_step(model, dataloader, loss_criterion, device):\n",
    "    \n",
    "    model.train()  # Calcula gradientes\n",
    "    \n",
    "    cummulated_loss = 0\n",
    "    \n",
    "    for idx,(X,y) in enumerate(dataloader):\n",
    "\n",
    "        #-----------------------------------------------------\n",
    "        # Convierto los datos en tensores diferenciables\n",
    "        #-----------------------------------------------------\n",
    "        X = X.to(device)\n",
    "        y = y.to(device)\n",
    "\n",
    "        optimizer.zero_grad()  # Se limpia el caché del optimizador\n",
    "        \n",
    "        #----------------\n",
    "        # Forward pass\n",
    "        #----------------\n",
    "        y_pred = model(X)\n",
    "\n",
    "        #----------------\n",
    "        # Compute Loss\n",
    "        #----------------\n",
    "        loss = loss_criterion(y_pred.squeeze(), y)\n",
    "        \n",
    "        cummulated_loss += loss.item()\n",
    "        \n",
    "        #----------------\n",
    "        # Backward pass\n",
    "        #----------------\n",
    "        loss.backward()\n",
    "        optimizer.step()\n",
    "        \n",
    "    #------------------------------------\n",
    "    \n",
    "    N_batches = idx+1  # numero batches, comenzando en 1\n",
    "    cummulated_loss /= N_batches\n",
    "    \n",
    "    return cummulated_loss, model"
   ]
  },
  {
   "cell_type": "code",
   "execution_count": 19,
   "metadata": {
    "id": "wEskLleq8iA0"
   },
   "outputs": [],
   "source": [
    "def predict_step(model, dataloader, loss_criterion, device):\n",
    "    \n",
    "    model.eval()  # No calcula gradientes\n",
    "    \n",
    "    cummulated_loss = 0\n",
    "    \n",
    "    Y = torch.tensor([])\n",
    "    Yp = torch.tensor([])\n",
    "    \n",
    "    for idx,(X,y) in enumerate(dataloader):\n",
    "        \n",
    "        Y = torch.hstack( (Y,y.flatten()) )\n",
    "        \n",
    "        #-----------------------------------------------------\n",
    "        # Convierto los datos en tensores diferenciables\n",
    "        #-----------------------------------------------------\n",
    "        X = X.to(device)\n",
    "        y = y.to(device)\n",
    "        \n",
    "        #----------------\n",
    "        # Forward pass\n",
    "        #----------------\n",
    "        y_pred = model(X)\n",
    "        \n",
    "        Yp = torch.hstack( (Yp, y_pred.cpu().argmax(dim=1)) )\n",
    "\n",
    "        #----------------\n",
    "        # Compute Loss\n",
    "        #----------------\n",
    "        loss = loss_criterion(y_pred.squeeze(), y)\n",
    "        \n",
    "        cummulated_loss += loss.item()\n",
    "    \n",
    "    \n",
    "    N_batches = idx+1  # numero batches, comenzando en 1\n",
    "    cummulated_loss /= N_batches\n",
    "    \n",
    "    \n",
    "    Acc = torch.sum(Yp == Y)/ len(Y)\n",
    "    \n",
    "    #------------------\n",
    "    \n",
    "    return cummulated_loss, Acc"
   ]
  },
  {
   "cell_type": "code",
   "execution_count": 20,
   "metadata": {
    "id": "RP_BRTjr8jDa"
   },
   "outputs": [],
   "source": [
    "def inference(model, dataloader, loss_criterion, device):\n",
    "    \n",
    "    model.eval()  # No calcula gradientes\n",
    "    \n",
    "    Y = torch.tensor([])\n",
    "    Yp = torch.tensor([])\n",
    "    \n",
    "    for idx,(X,y) in enumerate(dataloader):\n",
    "        \n",
    "        Y = torch.hstack( (Y,y.flatten()) )\n",
    "        \n",
    "        #-----------------------------------------------------\n",
    "        # Convierto los datos en tensores diferenciables\n",
    "        #-----------------------------------------------------\n",
    "        X = X.to(device)\n",
    "        y = y.to(device)\n",
    "        \n",
    "        #----------------\n",
    "        # Forward pass\n",
    "        #----------------\n",
    "        y_pred = model(X)\n",
    "        \n",
    "        Yp = torch.hstack( (Yp, y_pred.cpu().argmax(dim=1)) )\n",
    "    \n",
    "    #------------------\n",
    "    \n",
    "    return Yp"
   ]
  },
  {
   "cell_type": "code",
   "execution_count": 94,
   "metadata": {
    "id": "j7Qqv8Bm8nvU"
   },
   "outputs": [],
   "source": [
    "# DEFINO ESTRUCTURA DEL MODELO\n",
    "parameters = {'n_inputs':5,\n",
    "              'layers':[15], #Se explica esta elección luego del entrenamiento\n",
    "              'n_outputs':train_data.get_n_classes}\n",
    "\n",
    "# INICIALIZO MODELO\n",
    "model = MLP(**parameters)\n",
    "model.to(device)\n",
    "\n",
    "\n",
    "# DEFINO ESTRUCTURA PARA GUARDAR MEDIDAS\n",
    "measures = {\n",
    "            'trn_loss': [],\n",
    "            'trn_acc': [],\n",
    "            'val_loss': [],\n",
    "            'val_acc': []\n",
    "           }\n",
    "\n",
    "\n",
    "#-------------------------------------------------------\n",
    "# Definimos el criterio de error (métrica a minimizar)\n",
    "# y trasladamos al device [CPU|GPU]\n",
    "#-------------------------------------------------------\n",
    "loss_criterion = torch.nn.CrossEntropyLoss(weight=train_data.get_weigh_by_class, reduction='mean').to(device)\n",
    "\n",
    "\n",
    "#-------------------------------------\n",
    "# Definimos el optimizador a utilizar\n",
    "#-------------------------------------\n",
    "optimizer = optim.SGD(model.parameters(), lr=5e-2, momentum=0.9)\n",
    "#optimizer = optim.Adam(model.parameters(), lr=1e-3)\n",
    "\n",
    "# DEFINIMOS PARAMETROS\n",
    "best_loss = 1E6\n",
    "best_model = model.state_dict()\n",
    "best_epoch = 0\n",
    "counter = 0\n",
    "\n",
    "MAX_EPOCHS = 1000  # DEFINIMOS MAXIMO DE EPOCAS DE ENTRENAMIENTO\n",
    "epoch = 0  # INICIALIZAMOS CONTADOR DE EPOCAS"
   ]
  },
  {
   "cell_type": "code",
   "execution_count": 95,
   "metadata": {
    "colab": {
     "base_uri": "https://localhost:8080/"
    },
    "id": "Jrp03AiH9oC1",
    "outputId": "3f2ec85e-a886-488d-d5aa-77d8842f185b"
   },
   "outputs": [
    {
     "name": "stdout",
     "output_type": "stream",
     "text": [
      "MLP(\n",
      "  (net): ModuleList(\n",
      "    (0): Linear(in_features=5, out_features=15, bias=True)\n",
      "    (1): Sigmoid()\n",
      "    (2): Linear(in_features=15, out_features=3, bias=True)\n",
      "  )\n",
      ")\n"
     ]
    }
   ],
   "source": [
    "# Visualizamos el modelo\n",
    "print(model)"
   ]
  },
  {
   "cell_type": "code",
   "execution_count": 96,
   "metadata": {
    "id": "49R_PbzrA1T9"
   },
   "outputs": [],
   "source": [
    "# Inicializo logger\n",
    "writer = SummaryWriter('logs/')"
   ]
  },
  {
   "cell_type": "code",
   "execution_count": 97,
   "metadata": {
    "colab": {
     "base_uri": "https://localhost:8080/"
    },
    "id": "3fLE3rs4A8lb",
    "outputId": "7fc57248-b4a6-407d-b444-1901edf2dd11"
   },
   "outputs": [
    {
     "name": "stdout",
     "output_type": "stream",
     "text": [
      "Epoch 0: trn_loss: 1.0277\t val_loss: 1.0276\t trn_acc: 0.3053061366081238\t val_acc: 0.32573288679122925\t counter: 0\n",
      "Epoch 10: trn_loss: 0.74474\t val_loss: 0.74131\t trn_acc: 0.7510204315185547\t val_acc: 0.7654722929000854\t counter: 0\n",
      "Epoch 20: trn_loss: 0.72033\t val_loss: 0.79062\t trn_acc: 0.7502040863037109\t val_acc: 0.7263843417167664\t counter: 2\n",
      "Epoch 30: trn_loss: 0.71103\t val_loss: 0.75996\t trn_acc: 0.7510204315185547\t val_acc: 0.7459283471107483\t counter: 4\n",
      "Epoch 40: trn_loss: 0.77759\t val_loss: 0.79417\t trn_acc: 0.6506122350692749\t val_acc: 0.638436496257782\t counter: 4\n",
      "Epoch 50: trn_loss: 0.66602\t val_loss: 0.72904\t trn_acc: 0.7893877625465393\t val_acc: 0.7947883009910583\t counter: 1\n",
      "Epoch 60: trn_loss: 0.75684\t val_loss: 0.77135\t trn_acc: 0.6163265109062195\t val_acc: 0.6058632135391235\t counter: 11\n",
      "Epoch 70: trn_loss: 0.68586\t val_loss: 0.7033\t trn_acc: 0.7208163142204285\t val_acc: 0.7198697328567505\t counter: 5\n",
      "Epoch 80: trn_loss: 0.66005\t val_loss: 0.68698\t trn_acc: 0.7616326808929443\t val_acc: 0.7719869613647461\t counter: 15\n",
      "Epoch 90: trn_loss: 0.69939\t val_loss: 0.72117\t trn_acc: 0.7934693694114685\t val_acc: 0.7947883009910583\t counter: 25\n",
      "Epoch 100: trn_loss: 0.6465\t val_loss: 0.67372\t trn_acc: 0.7746939063072205\t val_acc: 0.7654722929000854\t counter: 9\n",
      "Epoch 110: trn_loss: 0.63873\t val_loss: 0.6895\t trn_acc: 0.7722448706626892\t val_acc: 0.7687296271324158\t counter: 19\n",
      "Epoch 120: trn_loss: 0.63906\t val_loss: 0.66831\t trn_acc: 0.7722448706626892\t val_acc: 0.7654722929000854\t counter: 29\n",
      "Epoch 130: trn_loss: 0.65073\t val_loss: 0.66797\t trn_acc: 0.7673469185829163\t val_acc: 0.7524430155754089\t counter: 39\n",
      "Epoch 140: trn_loss: 0.69882\t val_loss: 0.73345\t trn_acc: 0.7257142663002014\t val_acc: 0.7003257274627686\t counter: 49\n",
      "Epoch 150: trn_loss: 0.65522\t val_loss: 0.71185\t trn_acc: 0.7616326808929443\t val_acc: 0.7491856813430786\t counter: 59\n",
      "Epoch 160: trn_loss: 0.65219\t val_loss: 0.68166\t trn_acc: 0.7934693694114685\t val_acc: 0.7719869613647461\t counter: 69\n",
      "Epoch 170: trn_loss: 0.64844\t val_loss: 0.67949\t trn_acc: 0.7493877410888672\t val_acc: 0.7459283471107483\t counter: 79\n",
      "Epoch 180: trn_loss: 0.68433\t val_loss: 0.71352\t trn_acc: 0.7240816354751587\t val_acc: 0.7133550643920898\t counter: 89\n",
      "Epoch 190: trn_loss: 0.66991\t val_loss: 0.71489\t trn_acc: 0.7755101919174194\t val_acc: 0.7687296271324158\t counter: 99\n",
      "Epoch 200: trn_loss: 0.64334\t val_loss: 0.66398\t trn_acc: 0.7551020383834839\t val_acc: 0.7361563444137573\t counter: 109\n",
      "Epoch 210: trn_loss: 0.63372\t val_loss: 0.67737\t trn_acc: 0.7510204315185547\t val_acc: 0.7361563444137573\t counter: 5\n",
      "Epoch 220: trn_loss: 0.63378\t val_loss: 0.67802\t trn_acc: 0.7363265156745911\t val_acc: 0.7394136786460876\t counter: 15\n",
      "Epoch 230: trn_loss: 0.61492\t val_loss: 0.67826\t trn_acc: 0.791020393371582\t val_acc: 0.7719869613647461\t counter: 3\n",
      "Epoch 240: trn_loss: 0.63119\t val_loss: 0.68706\t trn_acc: 0.7738775610923767\t val_acc: 0.7589576840400696\t counter: 13\n",
      "Epoch 250: trn_loss: 0.62936\t val_loss: 0.65986\t trn_acc: 0.7608163356781006\t val_acc: 0.742671012878418\t counter: 23\n",
      "Epoch 260: trn_loss: 0.63503\t val_loss: 0.66576\t trn_acc: 0.7371428608894348\t val_acc: 0.7524430155754089\t counter: 5\n",
      "Epoch 270: trn_loss: 0.62123\t val_loss: 0.65242\t trn_acc: 0.7779591679573059\t val_acc: 0.7654722929000854\t counter: 15\n",
      "Epoch 280: trn_loss: 0.61318\t val_loss: 0.64032\t trn_acc: 0.7836734652519226\t val_acc: 0.7687296271324158\t counter: 25\n",
      "Epoch 290: trn_loss: 0.64584\t val_loss: 0.73856\t trn_acc: 0.7779591679573059\t val_acc: 0.7817589640617371\t counter: 9\n",
      "Epoch 300: trn_loss: 0.62\t val_loss: 0.67181\t trn_acc: 0.8024489879608154\t val_acc: 0.791530966758728\t counter: 19\n",
      "Epoch 310: trn_loss: 0.60903\t val_loss: 0.64447\t trn_acc: 0.7877551317214966\t val_acc: 0.7622149586677551\t counter: 29\n",
      "Epoch 320: trn_loss: 0.61927\t val_loss: 0.67439\t trn_acc: 0.7575510144233704\t val_acc: 0.7524430155754089\t counter: 39\n",
      "Epoch 330: trn_loss: 0.62654\t val_loss: 0.69241\t trn_acc: 0.791020393371582\t val_acc: 0.7850162982940674\t counter: 49\n",
      "Epoch 340: trn_loss: 0.60757\t val_loss: 0.66763\t trn_acc: 0.7787755131721497\t val_acc: 0.7557003498077393\t counter: 7\n",
      "Epoch 350: trn_loss: 0.73386\t val_loss: 0.74331\t trn_acc: 0.6351020336151123\t val_acc: 0.6351791620254517\t counter: 17\n",
      "Epoch 360: trn_loss: 0.6122\t val_loss: 0.63824\t trn_acc: 0.7722448706626892\t val_acc: 0.7622149586677551\t counter: 27\n",
      "Epoch 370: trn_loss: 0.61115\t val_loss: 0.64264\t trn_acc: 0.7648979425430298\t val_acc: 0.7557003498077393\t counter: 37\n",
      "Epoch 380: trn_loss: 0.60601\t val_loss: 0.68928\t trn_acc: 0.7861224412918091\t val_acc: 0.7719869613647461\t counter: 47\n",
      "Epoch 390: trn_loss: 0.62102\t val_loss: 0.66558\t trn_acc: 0.7542856931686401\t val_acc: 0.7459283471107483\t counter: 57\n",
      "Epoch 400: trn_loss: 0.60804\t val_loss: 0.67243\t trn_acc: 0.7689796090126038\t val_acc: 0.7589576840400696\t counter: 67\n",
      "Epoch 410: trn_loss: 0.60437\t val_loss: 0.64429\t trn_acc: 0.7689796090126038\t val_acc: 0.7557003498077393\t counter: 77\n",
      "Epoch 420: trn_loss: 0.60501\t val_loss: 0.65039\t trn_acc: 0.7534694075584412\t val_acc: 0.7524430155754089\t counter: 87\n",
      "Epoch 430: trn_loss: 0.60382\t val_loss: 0.6677\t trn_acc: 0.7885714173316956\t val_acc: 0.7752442955970764\t counter: 97\n",
      "Epoch 440: trn_loss: 0.634\t val_loss: 0.70557\t trn_acc: 0.7371428608894348\t val_acc: 0.7459283471107483\t counter: 107\n",
      "Epoch 450: trn_loss: 0.5989\t val_loss: 0.67465\t trn_acc: 0.7738775610923767\t val_acc: 0.7654722929000854\t counter: 117\n",
      "Epoch 460: trn_loss: 0.61623\t val_loss: 0.66586\t trn_acc: 0.7599999904632568\t val_acc: 0.7589576840400696\t counter: 127\n",
      "Epoch 470: trn_loss: 0.60557\t val_loss: 0.67307\t trn_acc: 0.8097959160804749\t val_acc: 0.7752442955970764\t counter: 137\n",
      "Epoch 480: trn_loss: 0.60241\t val_loss: 0.72208\t trn_acc: 0.8032653331756592\t val_acc: 0.7785016298294067\t counter: 147\n",
      "Epoch 490: trn_loss: 0.5949\t val_loss: 0.67297\t trn_acc: 0.7902041077613831\t val_acc: 0.7719869613647461\t counter: 157\n",
      "Epoch 500: trn_loss: 0.60766\t val_loss: 0.67993\t trn_acc: 0.740408182144165\t val_acc: 0.7296416759490967\t counter: 167\n",
      "Epoch 510: trn_loss: 0.60202\t val_loss: 0.6982\t trn_acc: 0.7983673214912415\t val_acc: 0.7817589640617371\t counter: 177\n",
      "Epoch 520: trn_loss: 0.60142\t val_loss: 0.70121\t trn_acc: 0.7755101919174194\t val_acc: 0.7491856813430786\t counter: 187\n",
      "Epoch 530: trn_loss: 0.61749\t val_loss: 0.73929\t trn_acc: 0.7599999904632568\t val_acc: 0.7589576840400696\t counter: 197\n",
      "Best model:\n",
      "\n",
      "epoch: 333\n",
      "loss: 0.62103\n"
     ]
    }
   ],
   "source": [
    "while (epoch < MAX_EPOCHS) and (counter < 200):\n",
    "    \n",
    "    #------------\n",
    "    # TRAIN\n",
    "    #------------\n",
    "    trn_loss, model = train_step(model, train_dataloader, loss_criterion, device)\n",
    "    writer.add_scalar(\"Loss/train1\", trn_loss, epoch)\n",
    "    \n",
    "    trn_loss, trn_acc = predict_step(model, train_dataloader, loss_criterion, device)  # TRAIN EVALUATION\n",
    "    writer.add_scalar(\"Loss/train2\", trn_loss, epoch)\n",
    "    writer.add_scalar(\"Acc/train\", trn_acc, epoch)\n",
    "\n",
    "    val_loss, val_acc = predict_step(model, val_dataloader, loss_criterion, device)  # VALIDATION EVALUATION\n",
    "    writer.add_scalar(\"Loss/val\", val_loss, epoch)\n",
    "    writer.add_scalar(\"Acc/val\", val_acc, epoch)\n",
    "    \n",
    "    measures['trn_loss'].append(trn_loss)\n",
    "    measures['trn_acc'].append(trn_acc)\n",
    "    \n",
    "    measures['val_loss'].append(val_loss)\n",
    "    measures['val_acc'].append(val_acc)\n",
    "    \n",
    "\n",
    "    #=================================\n",
    "    if (val_loss < best_loss):\n",
    "        \n",
    "        # Actualizo best_loss\n",
    "        best_loss = val_loss\n",
    "        best_epoch = epoch\n",
    "        \n",
    "        # Guardo mejor modelo\n",
    "        best_model = model.state_dict()\n",
    "        counter = 0\n",
    "    \n",
    "    else:\n",
    "        counter += 1\n",
    "    #=================================\n",
    "\n",
    "    if (epoch%10) == 0:\n",
    "        print(f'Epoch {epoch}: trn_loss: {trn_loss:.5}\\t val_loss: {val_loss:.5}\\t trn_acc: {trn_acc}\\t val_acc: {val_acc}\\t counter: {counter}')\n",
    "    \n",
    "    # Avanzo 1 epoca\n",
    "    epoch += 1\n",
    "\n",
    "\n",
    "writer.flush()  # Termina todas las operaciones pendientes\n",
    "writer.close()  # Cierra el registro\n",
    "\n",
    "print(f'Best model:\\n\\nepoch: {best_epoch}\\nloss: {best_loss:.5}')\n",
    "\n",
    "# GUARDO MEJOR MODELO\n",
    "torch.save(best_model, 'best_model_pytorch.pt')"
   ]
  },
  {
   "cell_type": "markdown",
   "metadata": {
    "id": "ImQTKiPlSngn"
   },
   "source": [
    "Para determinar la mejor elección de la cantidad de capas ocultas y la cantidad de neuronas de las mismas fui experimentando, realicé 20 pruebas,de forma sistemática. \n",
    "\n",
    "Como primera conclusión, utilizar el optimizador SGD arrojó mejores resultados frente al Adam.\n",
    "\n",
    "Respecto de la cantidad de capas ocultas, en mi caso resultó mejor utilizar una sola capa, con una cantidad de neuronas de entre el doble o el triple de la cantidad de entradas,es decir, entre 10 y 15 neuronas en la capa oculta."
   ]
  },
  {
   "cell_type": "code",
   "execution_count": 98,
   "metadata": {
    "colab": {
     "base_uri": "https://localhost:8080/",
     "height": 373
    },
    "id": "q5kQ4-uABh61",
    "outputId": "277ae139-30f5-4655-ef5e-df8ea1f4cf8d"
   },
   "outputs": [
    {
     "data": {
      "image/png": "[encoded data removed]",
      "text/plain": [
       "<Figure size 1584x432 with 2 Axes>"
      ]
     },
     "metadata": {
      "needs_background": "light"
     },
     "output_type": "display_data"
    }
   ],
   "source": [
    "fig, ax = plt.subplots(1,2,figsize=(22,6))\n",
    "\n",
    "ax[0].plot(measures['trn_loss'], 'C2', label='trn')\n",
    "ax[0].plot(measures['val_loss'], 'C3', label='val')\n",
    "ax[0].set_title('Loss')\n",
    "ax[0].set_xlabel('epochs')\n",
    "ax[0].set_ylabel('CE')\n",
    "ax[0].grid(True)\n",
    "ax[0].legend()\n",
    "\n",
    "ax[1].plot(measures['trn_acc'], 'C2', label='trn')\n",
    "ax[1].plot(measures['val_acc'], 'C3', label='val')\n",
    "ax[1].set_title('Accuracy')\n",
    "ax[1].set_xlabel('epochs')\n",
    "ax[1].set_ylabel('Acc')\n",
    "ax[1].grid(True)\n",
    "ax[1].legend();"
   ]
  },
  {
   "cell_type": "markdown",
   "metadata": {
    "id": "NFgFw4spCYY1"
   },
   "source": [
    "PREDICCIONES EN TEST"
   ]
  },
  {
   "cell_type": "code",
   "execution_count": 99,
   "metadata": {
    "colab": {
     "base_uri": "https://localhost:8080/"
    },
    "id": "YjRYxlKNCZGW",
    "outputId": "a9439709-7762-4da8-b9b8-bbd71ad23271"
   },
   "outputs": [
    {
     "name": "stdout",
     "output_type": "stream",
     "text": [
      "\n",
      "Predicciones: [0. 2. 0. ... 1. 1. 0.]\n",
      "\n"
     ]
    }
   ],
   "source": [
    "model = MLP(**parameters)\n",
    "model.to(device)\n",
    "model.load_state_dict(best_model)\n",
    "\n",
    "predicted_labels = inference(model, test_dataloader, loss_criterion, device)  # TEST EVALUATION\n",
    "\n",
    "print(f'\\nPredicciones: {predicted_labels.numpy()}\\n')"
   ]
  },
  {
   "cell_type": "code",
   "execution_count": 100,
   "metadata": {
    "id": "yl7Zi6EbCnwr"
   },
   "outputs": [],
   "source": [
    "test_dataset = pd.read_csv('test_files.csv')\n",
    "\n",
    "ds = pd.DataFrame({\n",
    "    'file' : test_dataset.filename, \n",
    "    'prediction' : predicted_labels\n",
    "})\n",
    "\n",
    "ds.to_csv(\"predicciones.csv\", index=False, header=None)"
   ]
  },
  {
   "cell_type": "code",
   "execution_count": 101,
   "metadata": {
    "colab": {
     "base_uri": "https://localhost:8080/",
     "height": 424
    },
    "id": "_lWjaYCCCqeY",
    "outputId": "0405b582-18f9-4696-cf55-7dbac835382e"
   },
   "outputs": [
    {
     "data": {
      "text/html": [
       "<div>\n",
       "<style scoped>\n",
       "    .dataframe tbody tr th:only-of-type {\n",
       "        vertical-align: middle;\n",
       "    }\n",
       "\n",
       "    .dataframe tbody tr th {\n",
       "        vertical-align: top;\n",
       "    }\n",
       "\n",
       "    .dataframe thead th {\n",
       "        text-align: right;\n",
       "    }\n",
       "</style>\n",
       "<table border=\"1\" class=\"dataframe\">\n",
       "  <thead>\n",
       "    <tr style=\"text-align: right;\">\n",
       "      <th></th>\n",
       "      <th>file</th>\n",
       "      <th>prediction</th>\n",
       "    </tr>\n",
       "  </thead>\n",
       "  <tbody>\n",
       "    <tr>\n",
       "      <th>0</th>\n",
       "      <td>1</td>\n",
       "      <td>0.0</td>\n",
       "    </tr>\n",
       "    <tr>\n",
       "      <th>1</th>\n",
       "      <td>2</td>\n",
       "      <td>2.0</td>\n",
       "    </tr>\n",
       "    <tr>\n",
       "      <th>2</th>\n",
       "      <td>3</td>\n",
       "      <td>0.0</td>\n",
       "    </tr>\n",
       "    <tr>\n",
       "      <th>3</th>\n",
       "      <td>5</td>\n",
       "      <td>1.0</td>\n",
       "    </tr>\n",
       "    <tr>\n",
       "      <th>4</th>\n",
       "      <td>6</td>\n",
       "      <td>2.0</td>\n",
       "    </tr>\n",
       "    <tr>\n",
       "      <th>...</th>\n",
       "      <td>...</td>\n",
       "      <td>...</td>\n",
       "    </tr>\n",
       "    <tr>\n",
       "      <th>1546</th>\n",
       "      <td>3076</td>\n",
       "      <td>1.0</td>\n",
       "    </tr>\n",
       "    <tr>\n",
       "      <th>1547</th>\n",
       "      <td>3078</td>\n",
       "      <td>1.0</td>\n",
       "    </tr>\n",
       "    <tr>\n",
       "      <th>1548</th>\n",
       "      <td>3080</td>\n",
       "      <td>1.0</td>\n",
       "    </tr>\n",
       "    <tr>\n",
       "      <th>1549</th>\n",
       "      <td>3081</td>\n",
       "      <td>1.0</td>\n",
       "    </tr>\n",
       "    <tr>\n",
       "      <th>1550</th>\n",
       "      <td>3082</td>\n",
       "      <td>0.0</td>\n",
       "    </tr>\n",
       "  </tbody>\n",
       "</table>\n",
       "<p>1551 rows × 2 columns</p>\n",
       "</div>"
      ],
      "text/plain": [
       "      file  prediction\n",
       "0        1         0.0\n",
       "1        2         2.0\n",
       "2        3         0.0\n",
       "3        5         1.0\n",
       "4        6         2.0\n",
       "...    ...         ...\n",
       "1546  3076         1.0\n",
       "1547  3078         1.0\n",
       "1548  3080         1.0\n",
       "1549  3081         1.0\n",
       "1550  3082         0.0\n",
       "\n",
       "[1551 rows x 2 columns]"
      ]
     },
     "execution_count": 101,
     "metadata": {},
     "output_type": "execute_result"
    }
   ],
   "source": [
    "ds"
   ]
  }
 ],
 "metadata": {
  "colab": {
   "name": "TP 6-Leikan.ipynb",
   "provenance": []
  },
  "kernelspec": {
   "display_name": "Python 3 (ipykernel)",
   "language": "python",
   "name": "python3"
  },
  "language_info": {
   "codemirror_mode": {
    "name": "ipython",
    "version": 3
   },
   "file_extension": ".py",
   "mimetype": "text/x-python",
   "name": "python",
   "nbconvert_exporter": "python",
   "pygments_lexer": "ipython3",
   "version": "3.7.10"
  }
 },
 "nbformat": 4,
 "nbformat_minor": 1
}
