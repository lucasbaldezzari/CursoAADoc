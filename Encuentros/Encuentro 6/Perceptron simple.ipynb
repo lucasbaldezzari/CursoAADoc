{
 "cells": [
  {
   "cell_type": "code",
   "execution_count": null,
   "metadata": {},
   "outputs": [],
   "source": [
    "import numpy as np\n",
    "import matplotlib.pyplot as plt\n",
    "import pandas as pd\n",
    "\n",
    "import torch"
   ]
  },
  {
   "cell_type": "markdown",
   "metadata": {},
   "source": [
    "# Problema `OR`"
   ]
  },
  {
   "cell_type": "code",
   "execution_count": null,
   "metadata": {},
   "outputs": [],
   "source": [
    "train_df = pd.read_csv('OR_trn.csv', index_col=None, header=None)"
   ]
  },
  {
   "cell_type": "code",
   "execution_count": null,
   "metadata": {},
   "outputs": [],
   "source": [
    "train_df"
   ]
  },
  {
   "cell_type": "code",
   "execution_count": null,
   "metadata": {},
   "outputs": [],
   "source": [
    "# Extraigo patrones y etiquetas\n",
    "\n",
    "X = train_df.iloc[:,:-1].to_numpy()\n",
    "Y = train_df.iloc[:,-1].to_numpy()"
   ]
  },
  {
   "cell_type": "code",
   "execution_count": null,
   "metadata": {},
   "outputs": [],
   "source": [
    "# Convierto a Tensores\n",
    "\n",
    "X = torch.from_numpy(X)\n",
    "Y = torch.from_numpy(Y)"
   ]
  },
  {
   "cell_type": "code",
   "execution_count": null,
   "metadata": {},
   "outputs": [],
   "source": [
    "# Dibujo los patrones\n",
    "\n",
    "fig, ax = plt.subplots(1, 1, figsize=(6,6))\n",
    "\n",
    "ax.scatter(X[Y==-1,0], X[Y==-1,1], s=20, c='C0', marker='x', label='-1')\n",
    "ax.scatter(X[Y==1,0], X[Y==1,1], s=20, c='C1', marker='x', label='1')\n",
    "ax.legend(('1','-1'), loc='best', title=\"Clases\")\n",
    "ax.set_xlabel('$X_{1}$', fontsize=14)\n",
    "ax.set_ylabel('$X_{2}$', fontsize=14)\n",
    "\n",
    "ax.grid(True)"
   ]
  },
  {
   "cell_type": "markdown",
   "metadata": {},
   "source": [
    "### Construyo una clase `Perceptrón`"
   ]
  },
  {
   "cell_type": "code",
   "execution_count": null,
   "metadata": {},
   "outputs": [],
   "source": [
    "class Perceptron():\n",
    "    \n",
    "    #===========================================\n",
    "    def __init__(self, Ndim=2, lr=0.005):\n",
    "        \n",
    "        self.lr = lr\n",
    "        \n",
    "        self.W = torch.rand(Ndim + 1) - 0.5  # Inicializo en el rango [-0.5, 0.5]\n",
    "        \n",
    "        self.grad = torch.zeros_like(self.W)\n",
    "    \n",
    "    \n",
    "    #===========================================\n",
    "    def forward(self, x):\n",
    "        \n",
    "        x = torch.hstack( (torch.tensor(-1.), x) )  # [1.0 ...]\n",
    "        \n",
    "        yp = torch.sum(x * self.W)\n",
    "        \n",
    "        return yp\n",
    "    \n",
    "    \n",
    "    #===========================================\n",
    "    def backward(self, x, y):\n",
    "        \n",
    "        yp = self.forward(x)\n",
    "        \n",
    "        x = torch.hstack( (torch.tensor(-1.), x) )  # [1.0 ...]\n",
    "        \n",
    "        self.grad = 2 * (y - yp) * x\n",
    "    \n",
    "    #===========================================\n",
    "    def update_w(self):\n",
    "        \n",
    "        # Actualizo pesos\n",
    "        self.W += self.lr * self.grad\n",
    "        \n",
    "        #self.W /= torch.norm(self.W)  # REGULARIZO\n",
    "        \n",
    "        # Borro gradiente\n",
    "        self.grad.fill_(0.)"
   ]
  },
  {
   "cell_type": "code",
   "execution_count": null,
   "metadata": {},
   "outputs": [],
   "source": [
    "# Instancio un perceptrón\n",
    "\n",
    "perceptron = Perceptron()"
   ]
  },
  {
   "cell_type": "code",
   "execution_count": null,
   "metadata": {},
   "outputs": [],
   "source": [
    "yp = perceptron.forward(X[0,:])\n",
    "\n",
    "print(f'\\nSalida deseada: {Y[0]}')\n",
    "print(f'Salida predicha: {yp}\\n')"
   ]
  },
  {
   "cell_type": "code",
   "execution_count": null,
   "metadata": {},
   "outputs": [],
   "source": [
    "print(f'\\nGradiente inicial: {perceptron.grad}')\n",
    "\n",
    "perceptron.backward(X[0,:], Y[0])\n",
    "\n",
    "print(f'Gradiente actualizado: {perceptron.grad}\\n')"
   ]
  },
  {
   "cell_type": "code",
   "execution_count": null,
   "metadata": {},
   "outputs": [],
   "source": [
    "print(f'\\nPesos iniciales: {perceptron.W} -- Gradiente: {perceptron.grad}\\n')\n",
    "\n",
    "perceptron.update_w()\n",
    "\n",
    "print(f'Pesos actualizados: {perceptron.W} -- Gradiente: {perceptron.grad}\\n')"
   ]
  },
  {
   "cell_type": "markdown",
   "metadata": {},
   "source": [
    "---"
   ]
  },
  {
   "cell_type": "markdown",
   "metadata": {},
   "source": [
    "## Entrenamiento"
   ]
  },
  {
   "cell_type": "code",
   "execution_count": null,
   "metadata": {},
   "outputs": [],
   "source": [
    "perceptron = Perceptron(lr = 0.01)\n",
    "\n",
    "for epoca in range(10):\n",
    "    \n",
    "    loss = 0\n",
    "    Acc = 0\n",
    "    \n",
    "    counter = 1\n",
    "    for i in range(X.shape[0]):\n",
    "        \n",
    "        x = X[i,:]\n",
    "        y = Y[i]\n",
    "        \n",
    "        yp = perceptron.forward(x)\n",
    "        \n",
    "        if torch.sign(yp * y) > 0:\n",
    "            Acc += 1\n",
    "        \n",
    "        loss += (y - yp)**2\n",
    "        \n",
    "        perceptron.backward(x, y)\n",
    "        perceptron.update_w()\n",
    "        \n",
    "        #print(f'Loss: {loss.item()/counter} -- Acc: {Acc/counter}')\n",
    "        \n",
    "        #counter += 1\n",
    "    \n",
    "    print('\\n======================================\\n')\n",
    "    print(f'Epoca: {epoca} -- Loss: {loss.item()/X.shape[0]:.4} -- Acc: {Acc/X.shape[0]}')"
   ]
  },
  {
   "cell_type": "code",
   "execution_count": null,
   "metadata": {},
   "outputs": [],
   "source": [
    "def boundary(W, x):\n",
    "    '''\n",
    "    Esta función devuelve la salida sobre la frontera de decisión.\n",
    "    '''\n",
    "    \n",
    "    w0 = W[0]\n",
    "    w1 = W[1]\n",
    "    w2 = W[2]\n",
    "    \n",
    "    y = w0/w2 - w1/w2 * x\n",
    "    \n",
    "    return y"
   ]
  },
  {
   "cell_type": "code",
   "execution_count": null,
   "metadata": {},
   "outputs": [],
   "source": [
    "# DIBUJO PATRONES Y FROTERA DE DECISION\n",
    "\n",
    "fig, ax = plt.subplots(1, 1, figsize=(6,6))\n",
    "\n",
    "ax.scatter(X[Y==-1,0], X[Y==-1,1], s=20, c='C0', marker='x', label='-1')\n",
    "ax.scatter(X[Y==1,0], X[Y==1,1], s=20, c='C1', marker='x', label='1')\n",
    "ax.legend(('1','-1'), loc='best', title=\"Clases\")\n",
    "ax.set_xlabel('$X_{1}$', fontsize=14)\n",
    "ax.set_ylabel('$X_{2}$', fontsize=14)\n",
    "\n",
    "\n",
    "a = boundary(perceptron.W, -1)\n",
    "b = boundary(perceptron.W, 1)\n",
    "\n",
    "plt.plot([-1, 1], [a, b], 'r')\n",
    "\n",
    "plt.grid(True)"
   ]
  },
  {
   "cell_type": "code",
   "execution_count": null,
   "metadata": {},
   "outputs": [],
   "source": []
  }
 ],
 "metadata": {
  "kernelspec": {
   "display_name": "Python 3",
   "language": "python",
   "name": "python3"
  },
  "language_info": {
   "codemirror_mode": {
    "name": "ipython",
    "version": 3
   },
   "file_extension": ".py",
   "mimetype": "text/x-python",
   "name": "python",
   "nbconvert_exporter": "python",
   "pygments_lexer": "ipython3",
   "version": "3.6.2"
  }
 },
 "nbformat": 4,
 "nbformat_minor": 4
}
