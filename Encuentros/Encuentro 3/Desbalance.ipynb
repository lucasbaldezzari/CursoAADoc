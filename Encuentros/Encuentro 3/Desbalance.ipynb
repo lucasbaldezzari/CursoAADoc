{
 "cells": [
  {
   "cell_type": "markdown",
   "metadata": {},
   "source": [
    "# Aprendizaje automático y aplicaciones\n",
    "\n",
    "---\n",
    "$A^3$ @ FI-UNER : 2021"
   ]
  },
  {
   "cell_type": "code",
   "execution_count": null,
   "metadata": {},
   "outputs": [],
   "source": [
    "%matplotlib inline\n",
    "import numpy as np\n",
    "import pandas as pd\n",
    "import matplotlib.pyplot as plt\n",
    "\n",
    "#import seaborn as sns\n",
    "#sns.set_context(\"poster\")"
   ]
  },
  {
   "cell_type": "markdown",
   "metadata": {},
   "source": [
    "<div style='background-color:#A40057;padding:10px'>\n",
    "<h1 style='color:#FFFFFF'><b>Desbalance</b></h1>\n",
    "</div>\n",
    "\n",
    "https://imbalanced-learn.org/"
   ]
  },
  {
   "cell_type": "code",
   "execution_count": null,
   "metadata": {},
   "outputs": [],
   "source": [
    "from sklearn.datasets import load_iris\n",
    "from imblearn.datasets import make_imbalance"
   ]
  },
  {
   "cell_type": "code",
   "execution_count": null,
   "metadata": {},
   "outputs": [],
   "source": [
    "## VERSIONES NUEVAS\n",
    "#iris = load_iris(as_frame=True)\n",
    "\n",
    "\n",
    "## VERSIONES VIEJAS\n",
    "IRIS = load_iris()\n",
    "iris = pd.DataFrame(IRIS.data, columns=IRIS.feature_names)\n",
    "iris['target'] = IRIS.target"
   ]
  },
  {
   "cell_type": "code",
   "execution_count": null,
   "metadata": {},
   "outputs": [],
   "source": [
    "iris"
   ]
  },
  {
   "cell_type": "code",
   "execution_count": null,
   "metadata": {},
   "outputs": [],
   "source": [
    "# GRAFICO LA PROPORCION DE CLASES EN EL DATASET\n",
    "iris.target.value_counts().plot.pie(autopct = \"%.2f\");"
   ]
  },
  {
   "cell_type": "code",
   "execution_count": null,
   "metadata": {},
   "outputs": [],
   "source": [
    "# GENERO DESBALANCE ARTIFICIAL\n",
    "sampling_strategy = {0: 5, 1: 15, 2: 30}  # Numero de patrones por clase\n",
    "\n",
    "X, y = make_imbalance(iris.iloc[:,:4],\n",
    "                      iris.target,\n",
    "                      sampling_strategy=sampling_strategy)"
   ]
  },
  {
   "cell_type": "code",
   "execution_count": null,
   "metadata": {},
   "outputs": [],
   "source": [
    "fig, axs = plt.subplots(1, 2, figsize=(10, 5))\n",
    "\n",
    "iris.target.value_counts().plot.pie(autopct=\"%.2f\",\n",
    "                                    ax=axs[0])\n",
    "axs[0].set_title(\"Original\")\n",
    "\n",
    "y.value_counts().plot.pie(autopct=\"%.2f\",\n",
    "                          ax=axs[1])\n",
    "\n",
    "axs[1].set_title(\"Imbalanced\")\n",
    "\n",
    "fig.tight_layout()"
   ]
  },
  {
   "cell_type": "markdown",
   "metadata": {},
   "source": [
    "## Undersampling"
   ]
  },
  {
   "cell_type": "code",
   "execution_count": null,
   "metadata": {},
   "outputs": [],
   "source": [
    "from imblearn.under_sampling import RandomUnderSampler, TomekLinks, OneSidedSelection, ClusterCentroids, EditedNearestNeighbours\n",
    "\n",
    "#rus = RandomUnderSampler(sampling_strategy='auto')\n",
    "#rus = RandomUnderSampler(sampling_strategy=sampling_strategy)\n",
    "\n",
    "rus = ClusterCentroids(sampling_strategy='auto')\n",
    "#rus = ClusterCentroids(sampling_strategy={0:4, 1:4, 2:6})\n",
    "\n",
    "X_res, y_res = rus.fit_resample(X, y)"
   ]
  },
  {
   "cell_type": "markdown",
   "metadata": {},
   "source": [
    "### DATOS DESBALANCEADOS vs SUBMUESTREADOS"
   ]
  },
  {
   "cell_type": "code",
   "execution_count": null,
   "metadata": {},
   "outputs": [],
   "source": [
    "fig, axs = plt.subplots(1, 2, figsize=(10, 5))\n",
    "\n",
    "y.value_counts().plot.pie(autopct=\"%.2f\", ax=axs[0])\n",
    "axs[0].set_title(\"Original\")\n",
    "\n",
    "y_res.value_counts().plot.pie(autopct='%.2f', ax=axs[1])\n",
    "\n",
    "axs[1].set_title(\"Undersampled\")\n",
    "\n",
    "fig.tight_layout()"
   ]
  },
  {
   "cell_type": "markdown",
   "metadata": {
    "tags": []
   },
   "source": [
    "---"
   ]
  },
  {
   "cell_type": "markdown",
   "metadata": {},
   "source": [
    "## Oversampling"
   ]
  },
  {
   "cell_type": "code",
   "execution_count": null,
   "metadata": {},
   "outputs": [],
   "source": [
    "from imblearn.over_sampling import RandomOverSampler\n",
    "\n",
    "rus = RandomOverSampler(sampling_strategy='auto')\n",
    "#rus = RandomOverSampler(sampling_strategy={0:75, 1:100, 2:75})\n",
    "\n",
    "X_res, y_res = rus.fit_resample(X, y)"
   ]
  },
  {
   "cell_type": "markdown",
   "metadata": {},
   "source": [
    "### DATOS DESBALANCEADOS vs SOBREMUESTREADOS"
   ]
  },
  {
   "cell_type": "code",
   "execution_count": null,
   "metadata": {},
   "outputs": [],
   "source": [
    "fig, axs = plt.subplots(1, 2, figsize=(10, 5))\n",
    "\n",
    "y.value_counts().plot.pie(autopct=\"%.2f\", ax=axs[0])\n",
    "axs[0].set_title(\"Original\")\n",
    "\n",
    "y_res.value_counts().plot.pie(autopct='%.2f', ax=axs[1])\n",
    "\n",
    "axs[1].set_title(\"Undersampled\")\n",
    "\n",
    "fig.tight_layout()"
   ]
  },
  {
   "cell_type": "code",
   "execution_count": null,
   "metadata": {},
   "outputs": [],
   "source": []
  },
  {
   "cell_type": "markdown",
   "metadata": {},
   "source": [
    "---"
   ]
  },
  {
   "cell_type": "code",
   "execution_count": null,
   "metadata": {},
   "outputs": [],
   "source": [
    "sampling_strategy = {0: 25, 1: 15, 2: 10}  # Numero de patrones por clase\n",
    "\n",
    "X, y = make_imbalance(iris.iloc[:,:4],\n",
    "                      iris.target,\n",
    "                      sampling_strategy=sampling_strategy)\n",
    "\n",
    "\n",
    "#---------\n",
    "\n",
    "from imblearn.over_sampling import SMOTE\n",
    "\n",
    "X_resampled, y_resampled = SMOTE(sampling_strategy={0:25, 1:25, 2:25}).fit_resample(X, y)"
   ]
  },
  {
   "cell_type": "markdown",
   "metadata": {},
   "source": [
    "### DATOS ORIGINALES vs SOBREMUESTREADOS"
   ]
  },
  {
   "cell_type": "code",
   "execution_count": null,
   "metadata": {},
   "outputs": [],
   "source": [
    "fig, axs = plt.subplots(1, 2, figsize=(10, 5))\n",
    "\n",
    "y.value_counts().plot.pie(autopct=\"%.2f\", ax=axs[0])\n",
    "\n",
    "axs[0].set_title(\"Imbalanced\")\n",
    "\n",
    "\n",
    "y_resampled.value_counts().plot.pie(autopct='%.2f', ax=axs[1])\n",
    "\n",
    "axs[1].set_title(\"Balanced\")\n",
    "\n",
    "fig.tight_layout()"
   ]
  }
 ],
 "metadata": {
  "kernelspec": {
   "display_name": "Python 3",
   "language": "python",
   "name": "python3"
  },
  "language_info": {
   "codemirror_mode": {
    "name": "ipython",
    "version": 3
   },
   "file_extension": ".py",
   "mimetype": "text/x-python",
   "name": "python",
   "nbconvert_exporter": "python",
   "pygments_lexer": "ipython3",
   "version": "3.6.2"
  }
 },
 "nbformat": 4,
 "nbformat_minor": 4
}
